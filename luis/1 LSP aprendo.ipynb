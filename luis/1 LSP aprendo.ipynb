{
 "cells": [
  {
   "cell_type": "markdown",
   "metadata": {},
   "source": [
    "Puedo bajarme un fichero desde Google?\n"
   ]
  },
  {
   "cell_type": "code",
   "execution_count": 1,
   "metadata": {},
   "outputs": [],
   "source": [
    "import os\n",
    "import pandas as pd\n",
    "# Pandas es la librerá que me premite trabajar con datasets ... creo.\n"
   ]
  },
  {
   "cell_type": "markdown",
   "metadata": {},
   "source": [
    "Parece que he encontrado información útil en:\n",
    "* [pandas](https://pandas.pydata.org/pandas-docs/stable/)\n",
    "* [numpy](https://numpydoc.readthedocs.io/en/latest/)\n",
    "* el [vídeo](https://youtu.be/VdxaURgP7ps) y [enlace](https://www.aprendemachinelearning.com/machine-learning-en-la-nube-google-colaboratory-con-gpu/) de Colaboratory\n",
    "* [docs.python.org](docs.python.org) es la web oficial. Tiene su gran documentacion dividida en varias partes de la que destaco estas dos:\n",
    "    * Manual\n",
    "    * Bibliotecta\n"
   ]
  },
  {
   "cell_type": "markdown",
   "metadata": {},
   "source": [
    "## Fichero local"
   ]
  },
  {
   "cell_type": "code",
   "execution_count": 13,
   "metadata": {},
   "outputs": [],
   "source": [
    "mainpath = \"/Users/luissanchez/AnacondaProjects/cursoAIJuanGabrielGomila/python-ml-course/datasets\"\n",
    "filename = \"titanic/titanic3.csv\"\n",
    "fullpath = os.path.join(mainpath, filename)\n",
    "data = pd.read_csv(fullpath)"
   ]
  },
  {
   "cell_type": "code",
   "execution_count": 14,
   "metadata": {},
   "outputs": [
    {
     "data": {
      "text/html": [
       "<div>\n",
       "<style scoped>\n",
       "    .dataframe tbody tr th:only-of-type {\n",
       "        vertical-align: middle;\n",
       "    }\n",
       "\n",
       "    .dataframe tbody tr th {\n",
       "        vertical-align: top;\n",
       "    }\n",
       "\n",
       "    .dataframe thead th {\n",
       "        text-align: right;\n",
       "    }\n",
       "</style>\n",
       "<table border=\"1\" class=\"dataframe\">\n",
       "  <thead>\n",
       "    <tr style=\"text-align: right;\">\n",
       "      <th></th>\n",
       "      <th>pclass</th>\n",
       "      <th>survived</th>\n",
       "      <th>name</th>\n",
       "      <th>sex</th>\n",
       "      <th>age</th>\n",
       "      <th>sibsp</th>\n",
       "      <th>parch</th>\n",
       "      <th>ticket</th>\n",
       "      <th>fare</th>\n",
       "      <th>cabin</th>\n",
       "      <th>embarked</th>\n",
       "      <th>boat</th>\n",
       "      <th>body</th>\n",
       "      <th>home.dest</th>\n",
       "    </tr>\n",
       "  </thead>\n",
       "  <tbody>\n",
       "    <tr>\n",
       "      <th>0</th>\n",
       "      <td>1</td>\n",
       "      <td>1</td>\n",
       "      <td>Allen, Miss. Elisabeth Walton</td>\n",
       "      <td>female</td>\n",
       "      <td>29.0000</td>\n",
       "      <td>0</td>\n",
       "      <td>0</td>\n",
       "      <td>24160</td>\n",
       "      <td>211.3375</td>\n",
       "      <td>B5</td>\n",
       "      <td>S</td>\n",
       "      <td>2</td>\n",
       "      <td>NaN</td>\n",
       "      <td>St Louis, MO</td>\n",
       "    </tr>\n",
       "    <tr>\n",
       "      <th>1</th>\n",
       "      <td>1</td>\n",
       "      <td>1</td>\n",
       "      <td>Allison, Master. Hudson Trevor</td>\n",
       "      <td>male</td>\n",
       "      <td>0.9167</td>\n",
       "      <td>1</td>\n",
       "      <td>2</td>\n",
       "      <td>113781</td>\n",
       "      <td>151.5500</td>\n",
       "      <td>C22 C26</td>\n",
       "      <td>S</td>\n",
       "      <td>11</td>\n",
       "      <td>NaN</td>\n",
       "      <td>Montreal, PQ / Chesterville, ON</td>\n",
       "    </tr>\n",
       "    <tr>\n",
       "      <th>2</th>\n",
       "      <td>1</td>\n",
       "      <td>0</td>\n",
       "      <td>Allison, Miss. Helen Loraine</td>\n",
       "      <td>female</td>\n",
       "      <td>2.0000</td>\n",
       "      <td>1</td>\n",
       "      <td>2</td>\n",
       "      <td>113781</td>\n",
       "      <td>151.5500</td>\n",
       "      <td>C22 C26</td>\n",
       "      <td>S</td>\n",
       "      <td>NaN</td>\n",
       "      <td>NaN</td>\n",
       "      <td>Montreal, PQ / Chesterville, ON</td>\n",
       "    </tr>\n",
       "    <tr>\n",
       "      <th>3</th>\n",
       "      <td>1</td>\n",
       "      <td>0</td>\n",
       "      <td>Allison, Mr. Hudson Joshua Creighton</td>\n",
       "      <td>male</td>\n",
       "      <td>30.0000</td>\n",
       "      <td>1</td>\n",
       "      <td>2</td>\n",
       "      <td>113781</td>\n",
       "      <td>151.5500</td>\n",
       "      <td>C22 C26</td>\n",
       "      <td>S</td>\n",
       "      <td>NaN</td>\n",
       "      <td>135.0</td>\n",
       "      <td>Montreal, PQ / Chesterville, ON</td>\n",
       "    </tr>\n",
       "    <tr>\n",
       "      <th>4</th>\n",
       "      <td>1</td>\n",
       "      <td>0</td>\n",
       "      <td>Allison, Mrs. Hudson J C (Bessie Waldo Daniels)</td>\n",
       "      <td>female</td>\n",
       "      <td>25.0000</td>\n",
       "      <td>1</td>\n",
       "      <td>2</td>\n",
       "      <td>113781</td>\n",
       "      <td>151.5500</td>\n",
       "      <td>C22 C26</td>\n",
       "      <td>S</td>\n",
       "      <td>NaN</td>\n",
       "      <td>NaN</td>\n",
       "      <td>Montreal, PQ / Chesterville, ON</td>\n",
       "    </tr>\n",
       "  </tbody>\n",
       "</table>\n",
       "</div>"
      ],
      "text/plain": [
       "   pclass  survived                                             name     sex  \\\n",
       "0       1         1                    Allen, Miss. Elisabeth Walton  female   \n",
       "1       1         1                   Allison, Master. Hudson Trevor    male   \n",
       "2       1         0                     Allison, Miss. Helen Loraine  female   \n",
       "3       1         0             Allison, Mr. Hudson Joshua Creighton    male   \n",
       "4       1         0  Allison, Mrs. Hudson J C (Bessie Waldo Daniels)  female   \n",
       "\n",
       "       age  sibsp  parch  ticket      fare    cabin embarked boat   body  \\\n",
       "0  29.0000      0      0   24160  211.3375       B5        S    2    NaN   \n",
       "1   0.9167      1      2  113781  151.5500  C22 C26        S   11    NaN   \n",
       "2   2.0000      1      2  113781  151.5500  C22 C26        S  NaN    NaN   \n",
       "3  30.0000      1      2  113781  151.5500  C22 C26        S  NaN  135.0   \n",
       "4  25.0000      1      2  113781  151.5500  C22 C26        S  NaN    NaN   \n",
       "\n",
       "                         home.dest  \n",
       "0                     St Louis, MO  \n",
       "1  Montreal, PQ / Chesterville, ON  \n",
       "2  Montreal, PQ / Chesterville, ON  \n",
       "3  Montreal, PQ / Chesterville, ON  \n",
       "4  Montreal, PQ / Chesterville, ON  "
      ]
     },
     "execution_count": 14,
     "metadata": {},
     "output_type": "execute_result"
    }
   ],
   "source": [
    "data.head()"
   ]
  },
  {
   "cell_type": "markdown",
   "metadata": {},
   "source": [
    "## Fichero en gdocs"
   ]
  },
  {
   "cell_type": "code",
   "execution_count": 12,
   "metadata": {},
   "outputs": [
    {
     "ename": "URLError",
     "evalue": "<urlopen error [Errno 8] nodename nor servname provided, or not known>",
     "output_type": "error",
     "traceback": [
      "\u001b[0;31m---------------------------------------------------------------------------\u001b[0m",
      "\u001b[0;31mgaierror\u001b[0m                                  Traceback (most recent call last)",
      "\u001b[0;32m~/anaconda3/lib/python3.6/urllib/request.py\u001b[0m in \u001b[0;36mdo_open\u001b[0;34m(self, http_class, req, **http_conn_args)\u001b[0m\n\u001b[1;32m   1317\u001b[0m                 h.request(req.get_method(), req.selector, req.data, headers,\n\u001b[0;32m-> 1318\u001b[0;31m                           encode_chunked=req.has_header('Transfer-encoding'))\n\u001b[0m\u001b[1;32m   1319\u001b[0m             \u001b[0;32mexcept\u001b[0m \u001b[0mOSError\u001b[0m \u001b[0;32mas\u001b[0m \u001b[0merr\u001b[0m\u001b[0;34m:\u001b[0m \u001b[0;31m# timeout error\u001b[0m\u001b[0;34m\u001b[0m\u001b[0;34m\u001b[0m\u001b[0m\n",
      "\u001b[0;32m~/anaconda3/lib/python3.6/http/client.py\u001b[0m in \u001b[0;36mrequest\u001b[0;34m(self, method, url, body, headers, encode_chunked)\u001b[0m\n\u001b[1;32m   1238\u001b[0m         \u001b[0;34m\"\"\"Send a complete request to the server.\"\"\"\u001b[0m\u001b[0;34m\u001b[0m\u001b[0;34m\u001b[0m\u001b[0m\n\u001b[0;32m-> 1239\u001b[0;31m         \u001b[0mself\u001b[0m\u001b[0;34m.\u001b[0m\u001b[0m_send_request\u001b[0m\u001b[0;34m(\u001b[0m\u001b[0mmethod\u001b[0m\u001b[0;34m,\u001b[0m \u001b[0murl\u001b[0m\u001b[0;34m,\u001b[0m \u001b[0mbody\u001b[0m\u001b[0;34m,\u001b[0m \u001b[0mheaders\u001b[0m\u001b[0;34m,\u001b[0m \u001b[0mencode_chunked\u001b[0m\u001b[0;34m)\u001b[0m\u001b[0;34m\u001b[0m\u001b[0;34m\u001b[0m\u001b[0m\n\u001b[0m\u001b[1;32m   1240\u001b[0m \u001b[0;34m\u001b[0m\u001b[0m\n",
      "\u001b[0;32m~/anaconda3/lib/python3.6/http/client.py\u001b[0m in \u001b[0;36m_send_request\u001b[0;34m(self, method, url, body, headers, encode_chunked)\u001b[0m\n\u001b[1;32m   1284\u001b[0m             \u001b[0mbody\u001b[0m \u001b[0;34m=\u001b[0m \u001b[0m_encode\u001b[0m\u001b[0;34m(\u001b[0m\u001b[0mbody\u001b[0m\u001b[0;34m,\u001b[0m \u001b[0;34m'body'\u001b[0m\u001b[0;34m)\u001b[0m\u001b[0;34m\u001b[0m\u001b[0;34m\u001b[0m\u001b[0m\n\u001b[0;32m-> 1285\u001b[0;31m         \u001b[0mself\u001b[0m\u001b[0;34m.\u001b[0m\u001b[0mendheaders\u001b[0m\u001b[0;34m(\u001b[0m\u001b[0mbody\u001b[0m\u001b[0;34m,\u001b[0m \u001b[0mencode_chunked\u001b[0m\u001b[0;34m=\u001b[0m\u001b[0mencode_chunked\u001b[0m\u001b[0;34m)\u001b[0m\u001b[0;34m\u001b[0m\u001b[0;34m\u001b[0m\u001b[0m\n\u001b[0m\u001b[1;32m   1286\u001b[0m \u001b[0;34m\u001b[0m\u001b[0m\n",
      "\u001b[0;32m~/anaconda3/lib/python3.6/http/client.py\u001b[0m in \u001b[0;36mendheaders\u001b[0;34m(self, message_body, encode_chunked)\u001b[0m\n\u001b[1;32m   1233\u001b[0m             \u001b[0;32mraise\u001b[0m \u001b[0mCannotSendHeader\u001b[0m\u001b[0;34m(\u001b[0m\u001b[0;34m)\u001b[0m\u001b[0;34m\u001b[0m\u001b[0;34m\u001b[0m\u001b[0m\n\u001b[0;32m-> 1234\u001b[0;31m         \u001b[0mself\u001b[0m\u001b[0;34m.\u001b[0m\u001b[0m_send_output\u001b[0m\u001b[0;34m(\u001b[0m\u001b[0mmessage_body\u001b[0m\u001b[0;34m,\u001b[0m \u001b[0mencode_chunked\u001b[0m\u001b[0;34m=\u001b[0m\u001b[0mencode_chunked\u001b[0m\u001b[0;34m)\u001b[0m\u001b[0;34m\u001b[0m\u001b[0;34m\u001b[0m\u001b[0m\n\u001b[0m\u001b[1;32m   1235\u001b[0m \u001b[0;34m\u001b[0m\u001b[0m\n",
      "\u001b[0;32m~/anaconda3/lib/python3.6/http/client.py\u001b[0m in \u001b[0;36m_send_output\u001b[0;34m(self, message_body, encode_chunked)\u001b[0m\n\u001b[1;32m   1025\u001b[0m         \u001b[0;32mdel\u001b[0m \u001b[0mself\u001b[0m\u001b[0;34m.\u001b[0m\u001b[0m_buffer\u001b[0m\u001b[0;34m[\u001b[0m\u001b[0;34m:\u001b[0m\u001b[0;34m]\u001b[0m\u001b[0;34m\u001b[0m\u001b[0;34m\u001b[0m\u001b[0m\n\u001b[0;32m-> 1026\u001b[0;31m         \u001b[0mself\u001b[0m\u001b[0;34m.\u001b[0m\u001b[0msend\u001b[0m\u001b[0;34m(\u001b[0m\u001b[0mmsg\u001b[0m\u001b[0;34m)\u001b[0m\u001b[0;34m\u001b[0m\u001b[0;34m\u001b[0m\u001b[0m\n\u001b[0m\u001b[1;32m   1027\u001b[0m \u001b[0;34m\u001b[0m\u001b[0m\n",
      "\u001b[0;32m~/anaconda3/lib/python3.6/http/client.py\u001b[0m in \u001b[0;36msend\u001b[0;34m(self, data)\u001b[0m\n\u001b[1;32m    963\u001b[0m             \u001b[0;32mif\u001b[0m \u001b[0mself\u001b[0m\u001b[0;34m.\u001b[0m\u001b[0mauto_open\u001b[0m\u001b[0;34m:\u001b[0m\u001b[0;34m\u001b[0m\u001b[0;34m\u001b[0m\u001b[0m\n\u001b[0;32m--> 964\u001b[0;31m                 \u001b[0mself\u001b[0m\u001b[0;34m.\u001b[0m\u001b[0mconnect\u001b[0m\u001b[0;34m(\u001b[0m\u001b[0;34m)\u001b[0m\u001b[0;34m\u001b[0m\u001b[0;34m\u001b[0m\u001b[0m\n\u001b[0m\u001b[1;32m    965\u001b[0m             \u001b[0;32melse\u001b[0m\u001b[0;34m:\u001b[0m\u001b[0;34m\u001b[0m\u001b[0;34m\u001b[0m\u001b[0m\n",
      "\u001b[0;32m~/anaconda3/lib/python3.6/http/client.py\u001b[0m in \u001b[0;36mconnect\u001b[0;34m(self)\u001b[0m\n\u001b[1;32m   1391\u001b[0m \u001b[0;34m\u001b[0m\u001b[0m\n\u001b[0;32m-> 1392\u001b[0;31m             \u001b[0msuper\u001b[0m\u001b[0;34m(\u001b[0m\u001b[0;34m)\u001b[0m\u001b[0;34m.\u001b[0m\u001b[0mconnect\u001b[0m\u001b[0;34m(\u001b[0m\u001b[0;34m)\u001b[0m\u001b[0;34m\u001b[0m\u001b[0;34m\u001b[0m\u001b[0m\n\u001b[0m\u001b[1;32m   1393\u001b[0m \u001b[0;34m\u001b[0m\u001b[0m\n",
      "\u001b[0;32m~/anaconda3/lib/python3.6/http/client.py\u001b[0m in \u001b[0;36mconnect\u001b[0;34m(self)\u001b[0m\n\u001b[1;32m    935\u001b[0m         self.sock = self._create_connection(\n\u001b[0;32m--> 936\u001b[0;31m             (self.host,self.port), self.timeout, self.source_address)\n\u001b[0m\u001b[1;32m    937\u001b[0m         \u001b[0mself\u001b[0m\u001b[0;34m.\u001b[0m\u001b[0msock\u001b[0m\u001b[0;34m.\u001b[0m\u001b[0msetsockopt\u001b[0m\u001b[0;34m(\u001b[0m\u001b[0msocket\u001b[0m\u001b[0;34m.\u001b[0m\u001b[0mIPPROTO_TCP\u001b[0m\u001b[0;34m,\u001b[0m \u001b[0msocket\u001b[0m\u001b[0;34m.\u001b[0m\u001b[0mTCP_NODELAY\u001b[0m\u001b[0;34m,\u001b[0m \u001b[0;36m1\u001b[0m\u001b[0;34m)\u001b[0m\u001b[0;34m\u001b[0m\u001b[0;34m\u001b[0m\u001b[0m\n",
      "\u001b[0;32m~/anaconda3/lib/python3.6/socket.py\u001b[0m in \u001b[0;36mcreate_connection\u001b[0;34m(address, timeout, source_address)\u001b[0m\n\u001b[1;32m    703\u001b[0m     \u001b[0merr\u001b[0m \u001b[0;34m=\u001b[0m \u001b[0;32mNone\u001b[0m\u001b[0;34m\u001b[0m\u001b[0;34m\u001b[0m\u001b[0m\n\u001b[0;32m--> 704\u001b[0;31m     \u001b[0;32mfor\u001b[0m \u001b[0mres\u001b[0m \u001b[0;32min\u001b[0m \u001b[0mgetaddrinfo\u001b[0m\u001b[0;34m(\u001b[0m\u001b[0mhost\u001b[0m\u001b[0;34m,\u001b[0m \u001b[0mport\u001b[0m\u001b[0;34m,\u001b[0m \u001b[0;36m0\u001b[0m\u001b[0;34m,\u001b[0m \u001b[0mSOCK_STREAM\u001b[0m\u001b[0;34m)\u001b[0m\u001b[0;34m:\u001b[0m\u001b[0;34m\u001b[0m\u001b[0;34m\u001b[0m\u001b[0m\n\u001b[0m\u001b[1;32m    705\u001b[0m         \u001b[0maf\u001b[0m\u001b[0;34m,\u001b[0m \u001b[0msocktype\u001b[0m\u001b[0;34m,\u001b[0m \u001b[0mproto\u001b[0m\u001b[0;34m,\u001b[0m \u001b[0mcanonname\u001b[0m\u001b[0;34m,\u001b[0m \u001b[0msa\u001b[0m \u001b[0;34m=\u001b[0m \u001b[0mres\u001b[0m\u001b[0;34m\u001b[0m\u001b[0;34m\u001b[0m\u001b[0m\n",
      "\u001b[0;32m~/anaconda3/lib/python3.6/socket.py\u001b[0m in \u001b[0;36mgetaddrinfo\u001b[0;34m(host, port, family, type, proto, flags)\u001b[0m\n\u001b[1;32m    744\u001b[0m     \u001b[0maddrlist\u001b[0m \u001b[0;34m=\u001b[0m \u001b[0;34m[\u001b[0m\u001b[0;34m]\u001b[0m\u001b[0;34m\u001b[0m\u001b[0;34m\u001b[0m\u001b[0m\n\u001b[0;32m--> 745\u001b[0;31m     \u001b[0;32mfor\u001b[0m \u001b[0mres\u001b[0m \u001b[0;32min\u001b[0m \u001b[0m_socket\u001b[0m\u001b[0;34m.\u001b[0m\u001b[0mgetaddrinfo\u001b[0m\u001b[0;34m(\u001b[0m\u001b[0mhost\u001b[0m\u001b[0;34m,\u001b[0m \u001b[0mport\u001b[0m\u001b[0;34m,\u001b[0m \u001b[0mfamily\u001b[0m\u001b[0;34m,\u001b[0m \u001b[0mtype\u001b[0m\u001b[0;34m,\u001b[0m \u001b[0mproto\u001b[0m\u001b[0;34m,\u001b[0m \u001b[0mflags\u001b[0m\u001b[0;34m)\u001b[0m\u001b[0;34m:\u001b[0m\u001b[0;34m\u001b[0m\u001b[0;34m\u001b[0m\u001b[0m\n\u001b[0m\u001b[1;32m    746\u001b[0m         \u001b[0maf\u001b[0m\u001b[0;34m,\u001b[0m \u001b[0msocktype\u001b[0m\u001b[0;34m,\u001b[0m \u001b[0mproto\u001b[0m\u001b[0;34m,\u001b[0m \u001b[0mcanonname\u001b[0m\u001b[0;34m,\u001b[0m \u001b[0msa\u001b[0m \u001b[0;34m=\u001b[0m \u001b[0mres\u001b[0m\u001b[0;34m\u001b[0m\u001b[0;34m\u001b[0m\u001b[0m\n",
      "\u001b[0;31mgaierror\u001b[0m: [Errno 8] nodename nor servname provided, or not known",
      "\nDuring handling of the above exception, another exception occurred:\n",
      "\u001b[0;31mURLError\u001b[0m                                  Traceback (most recent call last)",
      "\u001b[0;32m<ipython-input-12-d21dca74b4a4>\u001b[0m in \u001b[0;36m<module>\u001b[0;34m\u001b[0m\n\u001b[1;32m      1\u001b[0m \u001b[0;31m#data = pd.read_csv(\"https://lateuafarmacia.com/nextcloud/s/7wBGptyp6S6ZBwe\") # no ha funcionado\u001b[0m\u001b[0;34m\u001b[0m\u001b[0;34m\u001b[0m\u001b[0;34m\u001b[0m\u001b[0m\n\u001b[0;32m----> 2\u001b[0;31m \u001b[0mdata\u001b[0m \u001b[0;34m=\u001b[0m \u001b[0mpd\u001b[0m\u001b[0;34m.\u001b[0m\u001b[0mread_csv\u001b[0m\u001b[0;34m(\u001b[0m\u001b[0;34m\"https://drive.google.com/open?id=11PL4k2cjOkEsCzz2ffewiXMdk4ViXvXK\"\u001b[0m\u001b[0;34m)\u001b[0m \u001b[0;31m# no ha funcionado\u001b[0m\u001b[0;34m\u001b[0m\u001b[0;34m\u001b[0m\u001b[0m\n\u001b[0m\u001b[1;32m      3\u001b[0m \u001b[0mdata\u001b[0m\u001b[0;34m.\u001b[0m\u001b[0mhead\u001b[0m\u001b[0;34m(\u001b[0m\u001b[0;34m)\u001b[0m\u001b[0;34m\u001b[0m\u001b[0;34m\u001b[0m\u001b[0m\n",
      "\u001b[0;32m~/anaconda3/lib/python3.6/site-packages/pandas/io/parsers.py\u001b[0m in \u001b[0;36mparser_f\u001b[0;34m(filepath_or_buffer, sep, delimiter, header, names, index_col, usecols, squeeze, prefix, mangle_dupe_cols, dtype, engine, converters, true_values, false_values, skipinitialspace, skiprows, skipfooter, nrows, na_values, keep_default_na, na_filter, verbose, skip_blank_lines, parse_dates, infer_datetime_format, keep_date_col, date_parser, dayfirst, iterator, chunksize, compression, thousands, decimal, lineterminator, quotechar, quoting, doublequote, escapechar, comment, encoding, dialect, tupleize_cols, error_bad_lines, warn_bad_lines, delim_whitespace, low_memory, memory_map, float_precision)\u001b[0m\n\u001b[1;32m    700\u001b[0m                     skip_blank_lines=skip_blank_lines)\n\u001b[1;32m    701\u001b[0m \u001b[0;34m\u001b[0m\u001b[0m\n\u001b[0;32m--> 702\u001b[0;31m         \u001b[0;32mreturn\u001b[0m \u001b[0m_read\u001b[0m\u001b[0;34m(\u001b[0m\u001b[0mfilepath_or_buffer\u001b[0m\u001b[0;34m,\u001b[0m \u001b[0mkwds\u001b[0m\u001b[0;34m)\u001b[0m\u001b[0;34m\u001b[0m\u001b[0;34m\u001b[0m\u001b[0m\n\u001b[0m\u001b[1;32m    703\u001b[0m \u001b[0;34m\u001b[0m\u001b[0m\n\u001b[1;32m    704\u001b[0m     \u001b[0mparser_f\u001b[0m\u001b[0;34m.\u001b[0m\u001b[0m__name__\u001b[0m \u001b[0;34m=\u001b[0m \u001b[0mname\u001b[0m\u001b[0;34m\u001b[0m\u001b[0;34m\u001b[0m\u001b[0m\n",
      "\u001b[0;32m~/anaconda3/lib/python3.6/site-packages/pandas/io/parsers.py\u001b[0m in \u001b[0;36m_read\u001b[0;34m(filepath_or_buffer, kwds)\u001b[0m\n\u001b[1;32m    411\u001b[0m     \u001b[0mcompression\u001b[0m \u001b[0;34m=\u001b[0m \u001b[0m_infer_compression\u001b[0m\u001b[0;34m(\u001b[0m\u001b[0mfilepath_or_buffer\u001b[0m\u001b[0;34m,\u001b[0m \u001b[0mcompression\u001b[0m\u001b[0;34m)\u001b[0m\u001b[0;34m\u001b[0m\u001b[0;34m\u001b[0m\u001b[0m\n\u001b[1;32m    412\u001b[0m     filepath_or_buffer, _, compression, should_close = get_filepath_or_buffer(\n\u001b[0;32m--> 413\u001b[0;31m         filepath_or_buffer, encoding, compression)\n\u001b[0m\u001b[1;32m    414\u001b[0m     \u001b[0mkwds\u001b[0m\u001b[0;34m[\u001b[0m\u001b[0;34m'compression'\u001b[0m\u001b[0;34m]\u001b[0m \u001b[0;34m=\u001b[0m \u001b[0mcompression\u001b[0m\u001b[0;34m\u001b[0m\u001b[0;34m\u001b[0m\u001b[0m\n\u001b[1;32m    415\u001b[0m \u001b[0;34m\u001b[0m\u001b[0m\n",
      "\u001b[0;32m~/anaconda3/lib/python3.6/site-packages/pandas/io/common.py\u001b[0m in \u001b[0;36mget_filepath_or_buffer\u001b[0;34m(filepath_or_buffer, encoding, compression, mode)\u001b[0m\n\u001b[1;32m    200\u001b[0m \u001b[0;34m\u001b[0m\u001b[0m\n\u001b[1;32m    201\u001b[0m     \u001b[0;32mif\u001b[0m \u001b[0m_is_url\u001b[0m\u001b[0;34m(\u001b[0m\u001b[0mfilepath_or_buffer\u001b[0m\u001b[0;34m)\u001b[0m\u001b[0;34m:\u001b[0m\u001b[0;34m\u001b[0m\u001b[0;34m\u001b[0m\u001b[0m\n\u001b[0;32m--> 202\u001b[0;31m         \u001b[0mreq\u001b[0m \u001b[0;34m=\u001b[0m \u001b[0m_urlopen\u001b[0m\u001b[0;34m(\u001b[0m\u001b[0mfilepath_or_buffer\u001b[0m\u001b[0;34m)\u001b[0m\u001b[0;34m\u001b[0m\u001b[0;34m\u001b[0m\u001b[0m\n\u001b[0m\u001b[1;32m    203\u001b[0m         \u001b[0mcontent_encoding\u001b[0m \u001b[0;34m=\u001b[0m \u001b[0mreq\u001b[0m\u001b[0;34m.\u001b[0m\u001b[0mheaders\u001b[0m\u001b[0;34m.\u001b[0m\u001b[0mget\u001b[0m\u001b[0;34m(\u001b[0m\u001b[0;34m'Content-Encoding'\u001b[0m\u001b[0;34m,\u001b[0m \u001b[0;32mNone\u001b[0m\u001b[0;34m)\u001b[0m\u001b[0;34m\u001b[0m\u001b[0;34m\u001b[0m\u001b[0m\n\u001b[1;32m    204\u001b[0m         \u001b[0;32mif\u001b[0m \u001b[0mcontent_encoding\u001b[0m \u001b[0;34m==\u001b[0m \u001b[0;34m'gzip'\u001b[0m\u001b[0;34m:\u001b[0m\u001b[0;34m\u001b[0m\u001b[0;34m\u001b[0m\u001b[0m\n",
      "\u001b[0;32m~/anaconda3/lib/python3.6/urllib/request.py\u001b[0m in \u001b[0;36murlopen\u001b[0;34m(url, data, timeout, cafile, capath, cadefault, context)\u001b[0m\n\u001b[1;32m    221\u001b[0m     \u001b[0;32melse\u001b[0m\u001b[0;34m:\u001b[0m\u001b[0;34m\u001b[0m\u001b[0;34m\u001b[0m\u001b[0m\n\u001b[1;32m    222\u001b[0m         \u001b[0mopener\u001b[0m \u001b[0;34m=\u001b[0m \u001b[0m_opener\u001b[0m\u001b[0;34m\u001b[0m\u001b[0;34m\u001b[0m\u001b[0m\n\u001b[0;32m--> 223\u001b[0;31m     \u001b[0;32mreturn\u001b[0m \u001b[0mopener\u001b[0m\u001b[0;34m.\u001b[0m\u001b[0mopen\u001b[0m\u001b[0;34m(\u001b[0m\u001b[0murl\u001b[0m\u001b[0;34m,\u001b[0m \u001b[0mdata\u001b[0m\u001b[0;34m,\u001b[0m \u001b[0mtimeout\u001b[0m\u001b[0;34m)\u001b[0m\u001b[0;34m\u001b[0m\u001b[0;34m\u001b[0m\u001b[0m\n\u001b[0m\u001b[1;32m    224\u001b[0m \u001b[0;34m\u001b[0m\u001b[0m\n\u001b[1;32m    225\u001b[0m \u001b[0;32mdef\u001b[0m \u001b[0minstall_opener\u001b[0m\u001b[0;34m(\u001b[0m\u001b[0mopener\u001b[0m\u001b[0;34m)\u001b[0m\u001b[0;34m:\u001b[0m\u001b[0;34m\u001b[0m\u001b[0;34m\u001b[0m\u001b[0m\n",
      "\u001b[0;32m~/anaconda3/lib/python3.6/urllib/request.py\u001b[0m in \u001b[0;36mopen\u001b[0;34m(self, fullurl, data, timeout)\u001b[0m\n\u001b[1;32m    524\u001b[0m             \u001b[0mreq\u001b[0m \u001b[0;34m=\u001b[0m \u001b[0mmeth\u001b[0m\u001b[0;34m(\u001b[0m\u001b[0mreq\u001b[0m\u001b[0;34m)\u001b[0m\u001b[0;34m\u001b[0m\u001b[0;34m\u001b[0m\u001b[0m\n\u001b[1;32m    525\u001b[0m \u001b[0;34m\u001b[0m\u001b[0m\n\u001b[0;32m--> 526\u001b[0;31m         \u001b[0mresponse\u001b[0m \u001b[0;34m=\u001b[0m \u001b[0mself\u001b[0m\u001b[0;34m.\u001b[0m\u001b[0m_open\u001b[0m\u001b[0;34m(\u001b[0m\u001b[0mreq\u001b[0m\u001b[0;34m,\u001b[0m \u001b[0mdata\u001b[0m\u001b[0;34m)\u001b[0m\u001b[0;34m\u001b[0m\u001b[0;34m\u001b[0m\u001b[0m\n\u001b[0m\u001b[1;32m    527\u001b[0m \u001b[0;34m\u001b[0m\u001b[0m\n\u001b[1;32m    528\u001b[0m         \u001b[0;31m# post-process response\u001b[0m\u001b[0;34m\u001b[0m\u001b[0;34m\u001b[0m\u001b[0;34m\u001b[0m\u001b[0m\n",
      "\u001b[0;32m~/anaconda3/lib/python3.6/urllib/request.py\u001b[0m in \u001b[0;36m_open\u001b[0;34m(self, req, data)\u001b[0m\n\u001b[1;32m    542\u001b[0m         \u001b[0mprotocol\u001b[0m \u001b[0;34m=\u001b[0m \u001b[0mreq\u001b[0m\u001b[0;34m.\u001b[0m\u001b[0mtype\u001b[0m\u001b[0;34m\u001b[0m\u001b[0;34m\u001b[0m\u001b[0m\n\u001b[1;32m    543\u001b[0m         result = self._call_chain(self.handle_open, protocol, protocol +\n\u001b[0;32m--> 544\u001b[0;31m                                   '_open', req)\n\u001b[0m\u001b[1;32m    545\u001b[0m         \u001b[0;32mif\u001b[0m \u001b[0mresult\u001b[0m\u001b[0;34m:\u001b[0m\u001b[0;34m\u001b[0m\u001b[0;34m\u001b[0m\u001b[0m\n\u001b[1;32m    546\u001b[0m             \u001b[0;32mreturn\u001b[0m \u001b[0mresult\u001b[0m\u001b[0;34m\u001b[0m\u001b[0;34m\u001b[0m\u001b[0m\n",
      "\u001b[0;32m~/anaconda3/lib/python3.6/urllib/request.py\u001b[0m in \u001b[0;36m_call_chain\u001b[0;34m(self, chain, kind, meth_name, *args)\u001b[0m\n\u001b[1;32m    502\u001b[0m         \u001b[0;32mfor\u001b[0m \u001b[0mhandler\u001b[0m \u001b[0;32min\u001b[0m \u001b[0mhandlers\u001b[0m\u001b[0;34m:\u001b[0m\u001b[0;34m\u001b[0m\u001b[0;34m\u001b[0m\u001b[0m\n\u001b[1;32m    503\u001b[0m             \u001b[0mfunc\u001b[0m \u001b[0;34m=\u001b[0m \u001b[0mgetattr\u001b[0m\u001b[0;34m(\u001b[0m\u001b[0mhandler\u001b[0m\u001b[0;34m,\u001b[0m \u001b[0mmeth_name\u001b[0m\u001b[0;34m)\u001b[0m\u001b[0;34m\u001b[0m\u001b[0;34m\u001b[0m\u001b[0m\n\u001b[0;32m--> 504\u001b[0;31m             \u001b[0mresult\u001b[0m \u001b[0;34m=\u001b[0m \u001b[0mfunc\u001b[0m\u001b[0;34m(\u001b[0m\u001b[0;34m*\u001b[0m\u001b[0margs\u001b[0m\u001b[0;34m)\u001b[0m\u001b[0;34m\u001b[0m\u001b[0;34m\u001b[0m\u001b[0m\n\u001b[0m\u001b[1;32m    505\u001b[0m             \u001b[0;32mif\u001b[0m \u001b[0mresult\u001b[0m \u001b[0;32mis\u001b[0m \u001b[0;32mnot\u001b[0m \u001b[0;32mNone\u001b[0m\u001b[0;34m:\u001b[0m\u001b[0;34m\u001b[0m\u001b[0;34m\u001b[0m\u001b[0m\n\u001b[1;32m    506\u001b[0m                 \u001b[0;32mreturn\u001b[0m \u001b[0mresult\u001b[0m\u001b[0;34m\u001b[0m\u001b[0;34m\u001b[0m\u001b[0m\n",
      "\u001b[0;32m~/anaconda3/lib/python3.6/urllib/request.py\u001b[0m in \u001b[0;36mhttps_open\u001b[0;34m(self, req)\u001b[0m\n\u001b[1;32m   1359\u001b[0m         \u001b[0;32mdef\u001b[0m \u001b[0mhttps_open\u001b[0m\u001b[0;34m(\u001b[0m\u001b[0mself\u001b[0m\u001b[0;34m,\u001b[0m \u001b[0mreq\u001b[0m\u001b[0;34m)\u001b[0m\u001b[0;34m:\u001b[0m\u001b[0;34m\u001b[0m\u001b[0;34m\u001b[0m\u001b[0m\n\u001b[1;32m   1360\u001b[0m             return self.do_open(http.client.HTTPSConnection, req,\n\u001b[0;32m-> 1361\u001b[0;31m                 context=self._context, check_hostname=self._check_hostname)\n\u001b[0m\u001b[1;32m   1362\u001b[0m \u001b[0;34m\u001b[0m\u001b[0m\n\u001b[1;32m   1363\u001b[0m         \u001b[0mhttps_request\u001b[0m \u001b[0;34m=\u001b[0m \u001b[0mAbstractHTTPHandler\u001b[0m\u001b[0;34m.\u001b[0m\u001b[0mdo_request_\u001b[0m\u001b[0;34m\u001b[0m\u001b[0;34m\u001b[0m\u001b[0m\n",
      "\u001b[0;32m~/anaconda3/lib/python3.6/urllib/request.py\u001b[0m in \u001b[0;36mdo_open\u001b[0;34m(self, http_class, req, **http_conn_args)\u001b[0m\n\u001b[1;32m   1318\u001b[0m                           encode_chunked=req.has_header('Transfer-encoding'))\n\u001b[1;32m   1319\u001b[0m             \u001b[0;32mexcept\u001b[0m \u001b[0mOSError\u001b[0m \u001b[0;32mas\u001b[0m \u001b[0merr\u001b[0m\u001b[0;34m:\u001b[0m \u001b[0;31m# timeout error\u001b[0m\u001b[0;34m\u001b[0m\u001b[0;34m\u001b[0m\u001b[0m\n\u001b[0;32m-> 1320\u001b[0;31m                 \u001b[0;32mraise\u001b[0m \u001b[0mURLError\u001b[0m\u001b[0;34m(\u001b[0m\u001b[0merr\u001b[0m\u001b[0;34m)\u001b[0m\u001b[0;34m\u001b[0m\u001b[0;34m\u001b[0m\u001b[0m\n\u001b[0m\u001b[1;32m   1321\u001b[0m             \u001b[0mr\u001b[0m \u001b[0;34m=\u001b[0m \u001b[0mh\u001b[0m\u001b[0;34m.\u001b[0m\u001b[0mgetresponse\u001b[0m\u001b[0;34m(\u001b[0m\u001b[0;34m)\u001b[0m\u001b[0;34m\u001b[0m\u001b[0;34m\u001b[0m\u001b[0m\n\u001b[1;32m   1322\u001b[0m         \u001b[0;32mexcept\u001b[0m\u001b[0;34m:\u001b[0m\u001b[0;34m\u001b[0m\u001b[0;34m\u001b[0m\u001b[0m\n",
      "\u001b[0;31mURLError\u001b[0m: <urlopen error [Errno 8] nodename nor servname provided, or not known>"
     ]
    }
   ],
   "source": [
    "#data = pd.read_csv(\"https://lateuafarmacia.com/nextcloud/s/7wBGptyp6S6ZBwe\") # no ha funcionado\n",
    "data = pd.read_csv(\"https://drive.google.com/open?id=11PL4k2cjOkEsCzz2ffewiXMdk4ViXvXK\") # no ha funcionado\n",
    "data.head()"
   ]
  },
  {
   "cell_type": "code",
   "execution_count": 11,
   "metadata": {},
   "outputs": [
    {
     "name": "stderr",
     "output_type": "stream",
     "text": [
      "/Users/luissanchez/anaconda3/lib/python3.6/site-packages/urllib3/connectionpool.py:847: InsecureRequestWarning: Unverified HTTPS request is being made. Adding certificate verification is strongly advised. See: https://urllib3.readthedocs.io/en/latest/advanced-usage.html#ssl-warnings\n",
      "  InsecureRequestWarning)\n",
      "/Users/luissanchez/anaconda3/lib/python3.6/site-packages/urllib3/connectionpool.py:847: InsecureRequestWarning: Unverified HTTPS request is being made. Adding certificate verification is strongly advised. See: https://urllib3.readthedocs.io/en/latest/advanced-usage.html#ssl-warnings\n",
      "  InsecureRequestWarning)\n"
     ]
    },
    {
     "ename": "OSError",
     "evalue": "Expected file path name or file-like object, got <class 'bytes'> type",
     "output_type": "error",
     "traceback": [
      "\u001b[0;31m---------------------------------------------------------------------------\u001b[0m",
      "\u001b[0;31mOSError\u001b[0m                                   Traceback (most recent call last)",
      "\u001b[0;32m<ipython-input-11-ded46bc20b03>\u001b[0m in \u001b[0;36m<module>\u001b[0;34m\u001b[0m\n\u001b[1;32m      6\u001b[0m \u001b[0;32mimport\u001b[0m \u001b[0mcsv\u001b[0m\u001b[0;34m\u001b[0m\u001b[0;34m\u001b[0m\u001b[0m\n\u001b[1;32m      7\u001b[0m \u001b[0mcsv\u001b[0m\u001b[0;34m.\u001b[0m\u001b[0mreader\u001b[0m\u001b[0;34m(\u001b[0m\u001b[0mrespuesta\u001b[0m\u001b[0;34m)\u001b[0m\u001b[0;34m\u001b[0m\u001b[0;34m\u001b[0m\u001b[0m\n\u001b[0;32m----> 8\u001b[0;31m \u001b[0mpd\u001b[0m\u001b[0;34m.\u001b[0m\u001b[0mread_csv\u001b[0m\u001b[0;34m(\u001b[0m\u001b[0mrespuesta\u001b[0m\u001b[0;34m)\u001b[0m\u001b[0;34m\u001b[0m\u001b[0;34m\u001b[0m\u001b[0m\n\u001b[0m",
      "\u001b[0;32m~/anaconda3/lib/python3.6/site-packages/pandas/io/parsers.py\u001b[0m in \u001b[0;36mparser_f\u001b[0;34m(filepath_or_buffer, sep, delimiter, header, names, index_col, usecols, squeeze, prefix, mangle_dupe_cols, dtype, engine, converters, true_values, false_values, skipinitialspace, skiprows, skipfooter, nrows, na_values, keep_default_na, na_filter, verbose, skip_blank_lines, parse_dates, infer_datetime_format, keep_date_col, date_parser, dayfirst, iterator, chunksize, compression, thousands, decimal, lineterminator, quotechar, quoting, doublequote, escapechar, comment, encoding, dialect, tupleize_cols, error_bad_lines, warn_bad_lines, delim_whitespace, low_memory, memory_map, float_precision)\u001b[0m\n\u001b[1;32m    700\u001b[0m                     skip_blank_lines=skip_blank_lines)\n\u001b[1;32m    701\u001b[0m \u001b[0;34m\u001b[0m\u001b[0m\n\u001b[0;32m--> 702\u001b[0;31m         \u001b[0;32mreturn\u001b[0m \u001b[0m_read\u001b[0m\u001b[0;34m(\u001b[0m\u001b[0mfilepath_or_buffer\u001b[0m\u001b[0;34m,\u001b[0m \u001b[0mkwds\u001b[0m\u001b[0;34m)\u001b[0m\u001b[0;34m\u001b[0m\u001b[0;34m\u001b[0m\u001b[0m\n\u001b[0m\u001b[1;32m    703\u001b[0m \u001b[0;34m\u001b[0m\u001b[0m\n\u001b[1;32m    704\u001b[0m     \u001b[0mparser_f\u001b[0m\u001b[0;34m.\u001b[0m\u001b[0m__name__\u001b[0m \u001b[0;34m=\u001b[0m \u001b[0mname\u001b[0m\u001b[0;34m\u001b[0m\u001b[0;34m\u001b[0m\u001b[0m\n",
      "\u001b[0;32m~/anaconda3/lib/python3.6/site-packages/pandas/io/parsers.py\u001b[0m in \u001b[0;36m_read\u001b[0;34m(filepath_or_buffer, kwds)\u001b[0m\n\u001b[1;32m    427\u001b[0m \u001b[0;34m\u001b[0m\u001b[0m\n\u001b[1;32m    428\u001b[0m     \u001b[0;31m# Create the parser.\u001b[0m\u001b[0;34m\u001b[0m\u001b[0;34m\u001b[0m\u001b[0;34m\u001b[0m\u001b[0m\n\u001b[0;32m--> 429\u001b[0;31m     \u001b[0mparser\u001b[0m \u001b[0;34m=\u001b[0m \u001b[0mTextFileReader\u001b[0m\u001b[0;34m(\u001b[0m\u001b[0mfilepath_or_buffer\u001b[0m\u001b[0;34m,\u001b[0m \u001b[0;34m**\u001b[0m\u001b[0mkwds\u001b[0m\u001b[0;34m)\u001b[0m\u001b[0;34m\u001b[0m\u001b[0;34m\u001b[0m\u001b[0m\n\u001b[0m\u001b[1;32m    430\u001b[0m \u001b[0;34m\u001b[0m\u001b[0m\n\u001b[1;32m    431\u001b[0m     \u001b[0;32mif\u001b[0m \u001b[0mchunksize\u001b[0m \u001b[0;32mor\u001b[0m \u001b[0miterator\u001b[0m\u001b[0;34m:\u001b[0m\u001b[0;34m\u001b[0m\u001b[0;34m\u001b[0m\u001b[0m\n",
      "\u001b[0;32m~/anaconda3/lib/python3.6/site-packages/pandas/io/parsers.py\u001b[0m in \u001b[0;36m__init__\u001b[0;34m(self, f, engine, **kwds)\u001b[0m\n\u001b[1;32m    893\u001b[0m             \u001b[0mself\u001b[0m\u001b[0;34m.\u001b[0m\u001b[0moptions\u001b[0m\u001b[0;34m[\u001b[0m\u001b[0;34m'has_index_names'\u001b[0m\u001b[0;34m]\u001b[0m \u001b[0;34m=\u001b[0m \u001b[0mkwds\u001b[0m\u001b[0;34m[\u001b[0m\u001b[0;34m'has_index_names'\u001b[0m\u001b[0;34m]\u001b[0m\u001b[0;34m\u001b[0m\u001b[0;34m\u001b[0m\u001b[0m\n\u001b[1;32m    894\u001b[0m \u001b[0;34m\u001b[0m\u001b[0m\n\u001b[0;32m--> 895\u001b[0;31m         \u001b[0mself\u001b[0m\u001b[0;34m.\u001b[0m\u001b[0m_make_engine\u001b[0m\u001b[0;34m(\u001b[0m\u001b[0mself\u001b[0m\u001b[0;34m.\u001b[0m\u001b[0mengine\u001b[0m\u001b[0;34m)\u001b[0m\u001b[0;34m\u001b[0m\u001b[0;34m\u001b[0m\u001b[0m\n\u001b[0m\u001b[1;32m    896\u001b[0m \u001b[0;34m\u001b[0m\u001b[0m\n\u001b[1;32m    897\u001b[0m     \u001b[0;32mdef\u001b[0m \u001b[0mclose\u001b[0m\u001b[0;34m(\u001b[0m\u001b[0mself\u001b[0m\u001b[0;34m)\u001b[0m\u001b[0;34m:\u001b[0m\u001b[0;34m\u001b[0m\u001b[0;34m\u001b[0m\u001b[0m\n",
      "\u001b[0;32m~/anaconda3/lib/python3.6/site-packages/pandas/io/parsers.py\u001b[0m in \u001b[0;36m_make_engine\u001b[0;34m(self, engine)\u001b[0m\n\u001b[1;32m   1120\u001b[0m     \u001b[0;32mdef\u001b[0m \u001b[0m_make_engine\u001b[0m\u001b[0;34m(\u001b[0m\u001b[0mself\u001b[0m\u001b[0;34m,\u001b[0m \u001b[0mengine\u001b[0m\u001b[0;34m=\u001b[0m\u001b[0;34m'c'\u001b[0m\u001b[0;34m)\u001b[0m\u001b[0;34m:\u001b[0m\u001b[0;34m\u001b[0m\u001b[0;34m\u001b[0m\u001b[0m\n\u001b[1;32m   1121\u001b[0m         \u001b[0;32mif\u001b[0m \u001b[0mengine\u001b[0m \u001b[0;34m==\u001b[0m \u001b[0;34m'c'\u001b[0m\u001b[0;34m:\u001b[0m\u001b[0;34m\u001b[0m\u001b[0;34m\u001b[0m\u001b[0m\n\u001b[0;32m-> 1122\u001b[0;31m             \u001b[0mself\u001b[0m\u001b[0;34m.\u001b[0m\u001b[0m_engine\u001b[0m \u001b[0;34m=\u001b[0m \u001b[0mCParserWrapper\u001b[0m\u001b[0;34m(\u001b[0m\u001b[0mself\u001b[0m\u001b[0;34m.\u001b[0m\u001b[0mf\u001b[0m\u001b[0;34m,\u001b[0m \u001b[0;34m**\u001b[0m\u001b[0mself\u001b[0m\u001b[0;34m.\u001b[0m\u001b[0moptions\u001b[0m\u001b[0;34m)\u001b[0m\u001b[0;34m\u001b[0m\u001b[0;34m\u001b[0m\u001b[0m\n\u001b[0m\u001b[1;32m   1123\u001b[0m         \u001b[0;32melse\u001b[0m\u001b[0;34m:\u001b[0m\u001b[0;34m\u001b[0m\u001b[0;34m\u001b[0m\u001b[0m\n\u001b[1;32m   1124\u001b[0m             \u001b[0;32mif\u001b[0m \u001b[0mengine\u001b[0m \u001b[0;34m==\u001b[0m \u001b[0;34m'python'\u001b[0m\u001b[0;34m:\u001b[0m\u001b[0;34m\u001b[0m\u001b[0;34m\u001b[0m\u001b[0m\n",
      "\u001b[0;32m~/anaconda3/lib/python3.6/site-packages/pandas/io/parsers.py\u001b[0m in \u001b[0;36m__init__\u001b[0;34m(self, src, **kwds)\u001b[0m\n\u001b[1;32m   1851\u001b[0m         \u001b[0mkwds\u001b[0m\u001b[0;34m[\u001b[0m\u001b[0;34m'usecols'\u001b[0m\u001b[0;34m]\u001b[0m \u001b[0;34m=\u001b[0m \u001b[0mself\u001b[0m\u001b[0;34m.\u001b[0m\u001b[0musecols\u001b[0m\u001b[0;34m\u001b[0m\u001b[0;34m\u001b[0m\u001b[0m\n\u001b[1;32m   1852\u001b[0m \u001b[0;34m\u001b[0m\u001b[0m\n\u001b[0;32m-> 1853\u001b[0;31m         \u001b[0mself\u001b[0m\u001b[0;34m.\u001b[0m\u001b[0m_reader\u001b[0m \u001b[0;34m=\u001b[0m \u001b[0mparsers\u001b[0m\u001b[0;34m.\u001b[0m\u001b[0mTextReader\u001b[0m\u001b[0;34m(\u001b[0m\u001b[0msrc\u001b[0m\u001b[0;34m,\u001b[0m \u001b[0;34m**\u001b[0m\u001b[0mkwds\u001b[0m\u001b[0;34m)\u001b[0m\u001b[0;34m\u001b[0m\u001b[0;34m\u001b[0m\u001b[0m\n\u001b[0m\u001b[1;32m   1854\u001b[0m         \u001b[0mself\u001b[0m\u001b[0;34m.\u001b[0m\u001b[0munnamed_cols\u001b[0m \u001b[0;34m=\u001b[0m \u001b[0mself\u001b[0m\u001b[0;34m.\u001b[0m\u001b[0m_reader\u001b[0m\u001b[0;34m.\u001b[0m\u001b[0munnamed_cols\u001b[0m\u001b[0;34m\u001b[0m\u001b[0;34m\u001b[0m\u001b[0m\n\u001b[1;32m   1855\u001b[0m \u001b[0;34m\u001b[0m\u001b[0m\n",
      "\u001b[0;32mpandas/_libs/parsers.pyx\u001b[0m in \u001b[0;36mpandas._libs.parsers.TextReader.__cinit__\u001b[0;34m()\u001b[0m\n",
      "\u001b[0;32mpandas/_libs/parsers.pyx\u001b[0m in \u001b[0;36mpandas._libs.parsers.TextReader._setup_parser_source\u001b[0;34m()\u001b[0m\n",
      "\u001b[0;31mOSError\u001b[0m: Expected file path name or file-like object, got <class 'bytes'> type"
     ]
    }
   ],
   "source": [
    "import urllib3\n",
    "http = urllib3.PoolManager()\n",
    "r = http.request(\"GET\", \"https://drive.google.com/open?id=11PL4k2cjOkEsCzz2ffewiXMdk4ViXvXK\")\n",
    "r.status\n",
    "respuesta = r.data\n",
    "import csv\n",
    "csv.reader(respuesta)\n",
    "pd.read_csv(respuesta)"
   ]
  },
  {
   "cell_type": "code",
   "execution_count": 19,
   "metadata": {},
   "outputs": [],
   "source": [
    "fullpath = \"https://drive.google.com/open?id=11PL4k2cjOkEsCzz2ffewiXMdk4ViXvXK\""
   ]
  },
  {
   "cell_type": "code",
   "execution_count": 20,
   "metadata": {},
   "outputs": [
    {
     "ename": "FileNotFoundError",
     "evalue": "[Errno 2] No such file or directory: 'https://drive.google.com/open?id=11PL4k2cjOkEsCzz2ffewiXMdk4ViXvXK'",
     "output_type": "error",
     "traceback": [
      "\u001b[0;31m---------------------------------------------------------------------------\u001b[0m",
      "\u001b[0;31mFileNotFoundError\u001b[0m                         Traceback (most recent call last)",
      "\u001b[0;32m<ipython-input-20-cb8aff0e0579>\u001b[0m in \u001b[0;36m<module>\u001b[0;34m\u001b[0m\n\u001b[1;32m      1\u001b[0m \u001b[0;32mfrom\u001b[0m \u001b[0mpandas\u001b[0m\u001b[0;34m.\u001b[0m\u001b[0mcompat\u001b[0m \u001b[0;32mimport\u001b[0m \u001b[0mStringIO\u001b[0m\u001b[0;34m,\u001b[0m \u001b[0mBytesIO\u001b[0m\u001b[0;34m\u001b[0m\u001b[0;34m\u001b[0m\u001b[0m\n\u001b[0;32m----> 2\u001b[0;31m \u001b[0;32mwith\u001b[0m \u001b[0mopen\u001b[0m\u001b[0;34m(\u001b[0m\u001b[0mfullpath\u001b[0m\u001b[0;34m,\u001b[0m \u001b[0;34m'r'\u001b[0m\u001b[0;34m)\u001b[0m \u001b[0;32mas\u001b[0m \u001b[0mf\u001b[0m\u001b[0;34m:\u001b[0m\u001b[0;34m\u001b[0m\u001b[0;34m\u001b[0m\u001b[0m\n\u001b[0m\u001b[1;32m      3\u001b[0m     \u001b[0msio\u001b[0m \u001b[0;34m=\u001b[0m \u001b[0mStringIO\u001b[0m\u001b[0;34m(\u001b[0m\u001b[0mf\u001b[0m\u001b[0;34m.\u001b[0m\u001b[0mread\u001b[0m\u001b[0;34m(\u001b[0m\u001b[0;34m)\u001b[0m\u001b[0;34m)\u001b[0m\u001b[0;34m\u001b[0m\u001b[0;34m\u001b[0m\u001b[0m\n\u001b[1;32m      4\u001b[0m \u001b[0mprint\u001b[0m\u001b[0;34m(\u001b[0m\u001b[0msio\u001b[0m\u001b[0;34m)\u001b[0m\u001b[0;34m\u001b[0m\u001b[0;34m\u001b[0m\u001b[0m\n\u001b[1;32m      5\u001b[0m \u001b[0;31m# dfs = pd.read_html(sio)\u001b[0m\u001b[0;34m\u001b[0m\u001b[0;34m\u001b[0m\u001b[0;34m\u001b[0m\u001b[0m\n",
      "\u001b[0;31mFileNotFoundError\u001b[0m: [Errno 2] No such file or directory: 'https://drive.google.com/open?id=11PL4k2cjOkEsCzz2ffewiXMdk4ViXvXK'"
     ]
    }
   ],
   "source": [
    "from pandas.compat import StringIO, BytesIO\n",
    "with open(fullpath, 'r') as f:\n",
    "    sio = StringIO(f.read())\n",
    "print(sio)\n",
    "# dfs = pd.read_html(sio)\n",
    "dfs = pd.read_csv(sio)\n",
    "dfs"
   ]
  },
  {
   "cell_type": "markdown",
   "metadata": {},
   "source": [
    "## Por fin doy con el código que me permite subir el fichero.\n",
    "Me ha costado pero es es le que sigue. Atención al spearador. \n",
    "No me ha fucnionado este código en colaborative  pero sí que he podido compartir a partir del Drive con el código:\n",
    "```\n",
    "from google.colab import drive\n",
    "# drive.mount('/content/drive')\n",
    "drive.mount('/gdrive')\n",
    "#Esta primera parte pide un código que me da gooble.\n",
    "\n",
    "path = '/gdrive/My Drive/Abra/foo.txt'\n",
    "with open(path, 'w') as f:\n",
    "  f.write('Hello Google Drive!')\n",
    "!cat '/gdrive/My Drive/Abra/foo.txt'\n",
    "\n",
    "path ='/gdrive/My Drive/Abra/ventasprueba.csv'\n",
    "path ='/Users/luissanchez/Downloads/ventasprueba.csv'\n",
    "!cat '/gdrive/My Drive/Abra/ventasprueba.csv'\n",
    "```"
   ]
  },
  {
   "cell_type": "code",
   "execution_count": 1,
   "metadata": {},
   "outputs": [
    {
     "data": {
      "text/html": [
       "<div>\n",
       "<style scoped>\n",
       "    .dataframe tbody tr th:only-of-type {\n",
       "        vertical-align: middle;\n",
       "    }\n",
       "\n",
       "    .dataframe tbody tr th {\n",
       "        vertical-align: top;\n",
       "    }\n",
       "\n",
       "    .dataframe thead th {\n",
       "        text-align: right;\n",
       "    }\n",
       "</style>\n",
       "<table border=\"1\" class=\"dataframe\">\n",
       "  <thead>\n",
       "    <tr style=\"text-align: right;\">\n",
       "      <th></th>\n",
       "      <th>Fecha</th>\n",
       "      <th>Hora</th>\n",
       "      <th>Vendedor</th>\n",
       "      <th>Código</th>\n",
       "      <th>ClienteDescripción</th>\n",
       "      <th>Tipo</th>\n",
       "      <th>TA</th>\n",
       "      <th>Uni.</th>\n",
       "      <th>P.Ant.</th>\n",
       "      <th>P.V.P.</th>\n",
       "      <th>Imp. Bruto</th>\n",
       "      <th>Dto.</th>\n",
       "      <th>Imp. Neto</th>\n",
       "      <th>Numero Doc.</th>\n",
       "      <th>R.P.</th>\n",
       "      <th>Fact.</th>\n",
       "      <th>A Cuenta</th>\n",
       "      <th>Entrega</th>\n",
       "      <th>Devoluc.</th>\n",
       "      <th>Tipo de Pago</th>\n",
       "    </tr>\n",
       "  </thead>\n",
       "  <tbody>\n",
       "    <tr>\n",
       "      <th>0</th>\n",
       "      <td>01/07/2019</td>\n",
       "      <td>9:05</td>\n",
       "      <td>(20)2-ARACELI</td>\n",
       "      <td>NaN</td>\n",
       "      <td>Contado</td>\n",
       "      <td>Contado</td>\n",
       "      <td>NaN</td>\n",
       "      <td>0</td>\n",
       "      <td>0,00 €</td>\n",
       "      <td>0,00 €</td>\n",
       "      <td>17,14 €</td>\n",
       "      <td>0,00 €</td>\n",
       "      <td>17,14 €</td>\n",
       "      <td>A155690/2019</td>\n",
       "      <td>NaN</td>\n",
       "      <td>NaN</td>\n",
       "      <td>0,00 €</td>\n",
       "      <td>20,00 €</td>\n",
       "      <td>2,86 €</td>\n",
       "      <td>Efectivo</td>\n",
       "    </tr>\n",
       "    <tr>\n",
       "      <th>1</th>\n",
       "      <td>NaN</td>\n",
       "      <td>NaN</td>\n",
       "      <td>(20)2-ARACELI</td>\n",
       "      <td>663236.0</td>\n",
       "      <td>PENILEVEL ORAL 400 MG 30 CAPSULAS</td>\n",
       "      <td>Contado</td>\n",
       "      <td>T3</td>\n",
       "      <td>1</td>\n",
       "      <td>0,00 €</td>\n",
       "      <td>8,10 €</td>\n",
       "      <td>3,24 €</td>\n",
       "      <td>0,00 €</td>\n",
       "      <td>3,24 €</td>\n",
       "      <td>NaN</td>\n",
       "      <td>NaN</td>\n",
       "      <td>NaN</td>\n",
       "      <td>0,00 €</td>\n",
       "      <td>0,00 €</td>\n",
       "      <td>0,00 €</td>\n",
       "      <td>NaN</td>\n",
       "    </tr>\n",
       "    <tr>\n",
       "      <th>2</th>\n",
       "      <td>NaN</td>\n",
       "      <td>NaN</td>\n",
       "      <td>(20)2-ARACELI</td>\n",
       "      <td>663236.0</td>\n",
       "      <td>PENILEVEL ORAL 400 MG 30 CAPSULAS</td>\n",
       "      <td>Contado</td>\n",
       "      <td>T3</td>\n",
       "      <td>1</td>\n",
       "      <td>0,00 €</td>\n",
       "      <td>8,10 €</td>\n",
       "      <td>3,24 €</td>\n",
       "      <td>0,00 €</td>\n",
       "      <td>3,24 €</td>\n",
       "      <td>NaN</td>\n",
       "      <td>NaN</td>\n",
       "      <td>NaN</td>\n",
       "      <td>0,00 €</td>\n",
       "      <td>0,00 €</td>\n",
       "      <td>0,00 €</td>\n",
       "      <td>NaN</td>\n",
       "    </tr>\n",
       "    <tr>\n",
       "      <th>3</th>\n",
       "      <td>NaN</td>\n",
       "      <td>NaN</td>\n",
       "      <td>(20)2-ARACELI</td>\n",
       "      <td>709843.0</td>\n",
       "      <td>IBUPROFENO ARISTO EFG 600 MG 20 COMPRIMIDOS RECU</td>\n",
       "      <td>Contado</td>\n",
       "      <td>T3</td>\n",
       "      <td>1</td>\n",
       "      <td>0,00 €</td>\n",
       "      <td>0,98 €</td>\n",
       "      <td>0,39 €</td>\n",
       "      <td>0,00 €</td>\n",
       "      <td>0,39 €</td>\n",
       "      <td>NaN</td>\n",
       "      <td>NaN</td>\n",
       "      <td>NaN</td>\n",
       "      <td>0,00 €</td>\n",
       "      <td>0,00 €</td>\n",
       "      <td>0,00 €</td>\n",
       "      <td>NaN</td>\n",
       "    </tr>\n",
       "    <tr>\n",
       "      <th>4</th>\n",
       "      <td>NaN</td>\n",
       "      <td>NaN</td>\n",
       "      <td>(20)2-ARACELI</td>\n",
       "      <td>819136.0</td>\n",
       "      <td>ROBERFARIN AEROSOL TOPICO 20 ML</td>\n",
       "      <td>Contado</td>\n",
       "      <td>NaN</td>\n",
       "      <td>1</td>\n",
       "      <td>0,00 €</td>\n",
       "      <td>7,85 €</td>\n",
       "      <td>7,85 €</td>\n",
       "      <td>0,00 €</td>\n",
       "      <td>7,85 €</td>\n",
       "      <td>NaN</td>\n",
       "      <td>NaN</td>\n",
       "      <td>NaN</td>\n",
       "      <td>0,00 €</td>\n",
       "      <td>0,00 €</td>\n",
       "      <td>0,00 €</td>\n",
       "      <td>NaN</td>\n",
       "    </tr>\n",
       "  </tbody>\n",
       "</table>\n",
       "</div>"
      ],
      "text/plain": [
       "        Fecha  Hora       Vendedor    Código  \\\n",
       "0  01/07/2019  9:05  (20)2-ARACELI       NaN   \n",
       "1         NaN   NaN  (20)2-ARACELI  663236.0   \n",
       "2         NaN   NaN  (20)2-ARACELI  663236.0   \n",
       "3         NaN   NaN  (20)2-ARACELI  709843.0   \n",
       "4         NaN   NaN  (20)2-ARACELI  819136.0   \n",
       "\n",
       "                                 ClienteDescripción     Tipo   TA  Uni.  \\\n",
       "0                                           Contado  Contado  NaN     0   \n",
       "1                 PENILEVEL ORAL 400 MG 30 CAPSULAS  Contado   T3     1   \n",
       "2                 PENILEVEL ORAL 400 MG 30 CAPSULAS  Contado   T3     1   \n",
       "3  IBUPROFENO ARISTO EFG 600 MG 20 COMPRIMIDOS RECU  Contado   T3     1   \n",
       "4                   ROBERFARIN AEROSOL TOPICO 20 ML  Contado  NaN     1   \n",
       "\n",
       "   P.Ant.  P.V.P. Imp. Bruto   Dto.  Imp. Neto   Numero Doc.  R.P.  Fact.  \\\n",
       "0  0,00 €  0,00 €    17,14 €  0,00 €   17,14 €  A155690/2019   NaN    NaN   \n",
       "1  0,00 €  8,10 €     3,24 €  0,00 €    3,24 €           NaN   NaN    NaN   \n",
       "2  0,00 €  8,10 €     3,24 €  0,00 €    3,24 €           NaN   NaN    NaN   \n",
       "3  0,00 €  0,98 €     0,39 €  0,00 €    0,39 €           NaN   NaN    NaN   \n",
       "4  0,00 €  7,85 €     7,85 €  0,00 €    7,85 €           NaN   NaN    NaN   \n",
       "\n",
       "  A Cuenta  Entrega Devoluc. Tipo de Pago  \n",
       "0   0,00 €  20,00 €   2,86 €     Efectivo  \n",
       "1   0,00 €   0,00 €   0,00 €          NaN  \n",
       "2   0,00 €   0,00 €   0,00 €          NaN  \n",
       "3   0,00 €   0,00 €   0,00 €          NaN  \n",
       "4   0,00 €   0,00 €   0,00 €          NaN  "
      ]
     },
     "execution_count": 1,
     "metadata": {},
     "output_type": "execute_result"
    }
   ],
   "source": [
    "import pandas as pd\n",
    "# esplugues_df = pd.read_csv(path)\n",
    "# esplugues_df.head() \n",
    "esplugues_df = pd.read_csv(\"/Users/luissanchez/Downloads/ventaspruebacoma.csv\")\n",
    "#esplugues_df = pd.read_csv(\"/Users/luissanchez/Downloads/ventaspruebacomatab.csv\")\n",
    "\n",
    "esplugues_df = pd.read_csv(\"/Users/luissanchez/Downloads/ventaspruebacomatab.csv\" , sep='\\t')\n",
    "esplugues_df.head() "
   ]
  },
  {
   "cell_type": "markdown",
   "metadata": {},
   "source": [
    "Ahora lo que tengo que hacer es continuar con la formación para rellenar y hacer el dummy dataset."
   ]
  },
  {
   "cell_type": "markdown",
   "metadata": {},
   "source": [
    "Bueno ayer conseguí que funcionara lo de absober el fichero. Ahora toca modificarlo.\n",
    "A ver si es tan potente el pandas como dicen.\n",
    "La idea es que yo tenga un array con las posiciones en las que Fecha está rellenada. Con eso puedo saber qué línea es cabecera de venta y cual línea de venta.\n"
   ]
  },
  {
   "cell_type": "code",
   "execution_count": 3,
   "metadata": {},
   "outputs": [
    {
     "data": {
      "text/plain": [
       "array(['Fecha', 'Hora', 'Vendedor', 'Código', 'ClienteDescripción',\n",
       "       'Tipo', 'TA', 'Uni.', 'P.Ant.', 'P.V.P.', 'Imp. Bruto', 'Dto. ',\n",
       "       'Imp. Neto', 'Numero Doc.', 'R.P.', 'Fact.', 'A Cuenta', 'Entrega',\n",
       "       'Devoluc.', 'Tipo de Pago'], dtype=object)"
      ]
     },
     "execution_count": 3,
     "metadata": {},
     "output_type": "execute_result"
    }
   ],
   "source": [
    "esplugues_df.columns.values"
   ]
  },
  {
   "cell_type": "markdown",
   "metadata": {},
   "source": [
    "PArece que lo encontré:\n",
    "`pd.isnull(data[\"body\"])` es la función. La opuesta sería **notnull**\n"
   ]
  },
  {
   "cell_type": "code",
   "execution_count": 4,
   "metadata": {},
   "outputs": [
    {
     "data": {
      "text/plain": [
       "0     False\n",
       "1      True\n",
       "2      True\n",
       "3      True\n",
       "4      True\n",
       "5      True\n",
       "6     False\n",
       "7      True\n",
       "8     False\n",
       "9      True\n",
       "10     True\n",
       "11    False\n",
       "12     True\n",
       "13    False\n",
       "14     True\n",
       "15    False\n",
       "16     True\n",
       "17    False\n",
       "18     True\n",
       "19     True\n",
       "20    False\n",
       "21     True\n",
       "22     True\n",
       "23     True\n",
       "24    False\n",
       "25     True\n",
       "26    False\n",
       "27     True\n",
       "28     True\n",
       "29     True\n",
       "30     True\n",
       "31     True\n",
       "32    False\n",
       "33     True\n",
       "34    False\n",
       "35     True\n",
       "36     True\n",
       "Name: Fecha, dtype: bool"
      ]
     },
     "execution_count": 4,
     "metadata": {},
     "output_type": "execute_result"
    }
   ],
   "source": [
    "pd.isnull(esplugues_df[\"Fecha\"])"
   ]
  },
  {
   "cell_type": "markdown",
   "metadata": {},
   "source": [
    "Es interesante saber cuantas tengo. Para eso puedo usar la fucnión **ravel()** y **sum()**. La primera creo que me transforma el DataSet o el Series en una lista. El segundo me suma los valores. \n",
    "En este caso True =1 y False =0\n"
   ]
  },
  {
   "cell_type": "code",
   "execution_count": 8,
   "metadata": {},
   "outputs": [
    {
     "data": {
      "text/plain": [
       "25"
      ]
     },
     "execution_count": 8,
     "metadata": {},
     "output_type": "execute_result"
    }
   ],
   "source": [
    "pd.isnull(esplugues_df[\"Fecha\"]).values.ravel().sum()"
   ]
  },
  {
   "cell_type": "markdown",
   "metadata": {},
   "source": [
    "Parece ser que tengo 25 ventas aquí.\n",
    "\n",
    "Volviendo a mi asunto.\n",
    "Yo quiero los números... o tendré que hacer un bucle sobre esa lista. Haré las dos formas. Seguro que una es más elegante que la otra. "
   ]
  },
  {
   "cell_type": "markdown",
   "metadata": {},
   "source": [
    "PAra luego:\n",
    "Tendré que borrar las líneas de venta una vez absorbidas. La función es **data.dropna(axis=0, how=\"all\")** o algo así."
   ]
  },
  {
   "cell_type": "markdown",
   "metadata": {},
   "source": [
    "Encuentro que hay una funcion que va leyendo una columna y para cada valor te crea una columna nueva con un 1 o un 0 para el que cumpla con dicho valor.\n",
    "El código es \n",
    "```\n",
    "#Creo el dummy data set:\n",
    "dummy_sex = pd.get_dummies(data[\"sex\"], prefix=\"sex\")\n",
    "\n",
    "#y luego borro la columna original:\n",
    "data = data.drop([\"sex\"], axis = 1)\n",
    "\n",
    "#luego debo pegar el dataset obtenido:\n",
    "data = pd.concat([data, dummy_sex], axis = 1)\n",
    "\n",
    "\n",
    "```\n",
    "Pero ya no aparece más sobre este tema. Creo que tendré que improvisar."
   ]
  },
  {
   "cell_type": "markdown",
   "metadata": {},
   "source": [
    "### Eliminar con el método **open**\n",
    "```\n",
    "# Abro el fichero\n",
    "fichero = open(\"/Users/luissanchez/Downloads/ventaspruebacomatab.csv\" ,'r')\n",
    "\n",
    "# Para cada línea:\n",
    "for linea in fichero:\n",
    "    print(linea)\n",
    "\n",
    "# Y no olvidar cerrarlo al final\n",
    "fichero.close()\n",
    "```"
   ]
  },
  {
   "cell_type": "code",
   "execution_count": 2,
   "metadata": {},
   "outputs": [
    {
     "name": "stdout",
     "output_type": "stream",
     "text": [
      "Fecha\tHora\tVendedor\tCódigo\tClienteDescripción\tTipo\tTA\tUni.\tP.Ant.\tP.V.P.\tImp. Bruto\tDto. \tImp. Neto\tNumero Doc.\tR.P.\tFact.\tA Cuenta\tEntrega\tDevoluc.\tTipo de Pago\n",
      "01/07/2019\t9:05\t(20)2-ARACELI\t\tContado\tContado\t\t0\t0,00 €\t0,00 €\t17,14 €\t0,00 €\t17,14 €\tA155690/2019\t\t\t0,00 €\t20,00 €\t2,86 €\tEfectivo\n",
      "(20)2-ARACELI\t663236\tPENILEVEL ORAL 400 MG 30 CAPSULAS\tContado\tT3\t1\t0,00 €\t8,10 €\t3,24 €\t0,00 €\t3,24 €\t\t\t\t0,00 €\t0,00 €\t0,00 €\n",
      "(20)2-ARACELI\t663236\tPENILEVEL ORAL 400 MG 30 CAPSULAS\tContado\tT3\t1\t0,00 €\t8,10 €\t3,24 €\t0,00 €\t3,24 €\t\t\t\t0,00 €\t0,00 €\t0,00 €\n",
      "(20)2-ARACELI\t709843\tIBUPROFENO ARISTO EFG 600 MG 20 COMPRIMIDOS RECU\tContado\tT3\t1\t0,00 €\t0,98 €\t0,39 €\t0,00 €\t0,39 €\t\t\t\t0,00 €\t0,00 €\t0,00 €\n",
      "(20)2-ARACELI\t819136\tROBERFARIN AEROSOL TOPICO 20 ML\tContado\t\t1\t0,00 €\t7,85 €\t7,85 €\t0,00 €\t7,85 €\t\t\t\t0,00 €\t0,00 €\t0,00 €\n",
      "(20)2-ARACELI\t673261\tOMEPRAZOL SANDOZ FARMACEUTICA EFG 20 MG 28 CAPSU\tContado\t\t1\t0,00 €\t2,42 €\t2,42 €\t0,00 €\t2,42 €\t\t\t\t0,00 €\t0,00 €\t0,00 €\n",
      "01/07/2019\t9:06\t(20)2-ARACELI\t\tContado\tContado\t\t0\t0,00 €\t0,00 €\t9,71 €\t0,00 €\t9,71 €\tA155691/2019\t\t\t0,00 €\t10,00 €\t0,29 €\tEfectivo\n",
      "(20)2-ARACELI\t703215\tALERGICAL CREMA 0.5 MG/G + 0.1 MG/G CREMA 30 G\tContado\t\t1\t0,00 €\t9,71 €\t9,71 €\t0,00 €\t9,71 €\t\t\t\t0,00 €\t0,00 €\t0,00 €\n",
      "01/07/2019\t9:24\t(20)2-ARACELI\t\tContado\tContado\t\t0\t0,00 €\t0,00 €\t62,96 €\t0,00 €\t62,96 €\tA155692/2019\t\t\t0,00 €\t62,96 €\t0,00 €\tTarjeta\n",
      "(20)2-ARACELI\t729103\tACICLOVIR NORMON EFG CREMA 50 MG/G CREMA 1 TUBO\tContado\t\t1\t0,00 €\t14,47 €\t14,47 €\t0,00 €\t14,47 €\t\t\t\t0,00 €\t0,00 €\t0,00 €\n",
      "(20)2-ARACELI\t679837\tVALTREX 500 MG 42 COMPRIMIDOS RECUBIERTOS\tContado\t\t1\t0,00 €\t48,49 €\t48,49 €\t0,00 €\t48,49 €\t\t\t\t0,00 €\t0,00 €\t0,00 €\n",
      "01/07/2019\t9:25\t(20)2-ARACELI\t47114\t\tContado\t\t0\t0,00 €\t0,00 €\t9,71 €\t0,00 €\t9,71 €\tA155693/2019\t\t\t0,00 €\t50,00 €\t40,29 €\tEfectivo\n",
      "(20)2-ARACELI\t703215\tALERGICAL CREMA 0.5 MG/G + 0.1 MG/G CREMA 30 G\tContado\t\t1\t0,00 €\t9,71 €\t9,71 €\t0,00 €\t9,71 €\t\t\t\t0,00 €\t0,00 €\t0,00 €\n",
      "01/07/2019\t9:31\t(17)17-NOU\t\tContado\tContado\t\t0\t0,00 €\t0,00 €\t11,02 €\t0,00 €\t11,02 €\tA155694/2019\t\t\t0,00 €\t11,02 €\t0,00 €\tEfectivo\n",
      "(17)17-NOU\t916585\tSPASMOCTYL 40 40 MG 60 GRAGEAS\tContado\t\t1\t0,00 €\t11,02 €\t11,02 €\t0,00 €\t11,02 €\t\t\t\t0,00 €\t0,00 €\t0,00 €\n",
      "01/07/2019\t9:44\t(3)3-GLORIA\t\tContado\tContado\t\t0\t0,00 €\t0,00 €\t3,12 €\t0,00 €\t3,12 €\tA155695/2019\t\t\t0,00 €\t10,00 €\t6,88 €\tEfectivo\n",
      "(3)3-GLORIA\t701701\tIBUKERN EFG 600 MG 40 COMPRIMIDOS RECUBIERTOS\tContado\t\t1\t0,00 €\t3,12 €\t3,12 €\t0,00 €\t3,12 €\t\t\t\t0,00 €\t0,00 €\t0,00 €\n",
      "01/07/2019\t9:44\t(20)2-ARACELI\t\tContado\tContado\t\t0\t0,00 €\t0,00 €\t0,66 €\t0,00 €\t0,66 €\tA155696/2019\t\t\t0,00 €\t0,66 €\t0,00 €\tEfectivo\n",
      "(20)2-ARACELI\t652249\tLOSARTAN SANDOZ EFG 50 MG 28 COMPRIMIDOS RECUBIE\tContado\tT1\t1\t0,00 €\t4,17 €\t0,42 €\t0,00 €\t0,42 €\t\t\t\t0,00 €\t0,00 €\t0,00 €\n",
      "(20)2-ARACELI\t673261\tOMEPRAZOL SANDOZ FARMACEUTICA EFG 20 MG 28 CAPSU\tContado\tT1\t1\t0,00 €\t2,42 €\t0,24 €\t0,00 €\t0,24 €\t\t\t\t0,00 €\t0,00 €\t0,00 €\n",
      "01/07/2019\t10:07\t(20)2-ARACELI\t\tContado\tContado\t\t0\t0,00 €\t0,00 €\t16,55 €\t1,50 €\t15,05 €\tA155701/2019\t\t\t0,00 €\t15,05 €\t0,00 €\tTarjeta\n",
      "(20)2-ARACELI\t650100\tNOCTAMID 2 MG 20 COMPRIMIDOS\tContado\tT3\t1\t0,00 €\t2,31 €\t0,92 €\t0,00 €\t0,92 €\t\t\t\t0,00 €\t0,00 €\t0,00 €\n",
      "(20)2-ARACELI\t702351\tDEPRAX EFG 100 MG 60 COMPRIMIDOS\tContado\tT3\t1\t0,00 €\t6,32 €\t0,63 €\t0,00 €\t0,63 €\t\t\t\t0,00 €\t0,00 €\t0,00 €\n",
      "(20)2-ARACELI\t103363\tNUXE BODY DESODORANTE LARGA DURACION DUPLO\tContado\t\t1\t0,00 €\t15,00 €\t15,00 €\t1,50 €\t13,50 €\t\t\t\t0,00 €\t0,00 €\t0,00 €\n",
      "01/07/2019\t10:24\t(17)17-NOU\t\tContado\tContado\t\t0\t0,00 €\t0,00 €\t16,60 €\t0,00 €\t16,60 €\tA155706/2019\t\t\t0,00 €\t20,00 €\t3,40 €\tEfectivo\n",
      "(17)17-NOU\t706086\tOMEPRAZOL SANDOZ FARMACEUTICA EFG 20 MG 56 CAPSU\tContado\t\t4\t0,00 €\t4,15 €\t16,60 €\t0,00 €\t16,60 €\t\t\t\t0,00 €\t0,00 €\t0,00 €\n",
      "01/07/2019\t10:48\t(4)4-JUDIT\t\tContado\tContado\t\t0\t0,00 €\t0,00 €\t3,47 €\t0,00 €\t3,47 €\tA155711/2019\t\t\t0,00 €\t3,47 €\t0,00 €\tEfectivo\n",
      "(4)4-JUDIT\t653344\tSIMVASTATINA KERN PHARMA EFG 40 MG 28 COMPRIMIDO\tContado\tT1\t1\t0,00 €\t2,17 €\t0,22 €\t0,00 €\t0,22 €\t\t\t\t0,00 €\t0,00 €\t0,00 €\n",
      "(4)4-JUDIT\t661793\tBISOPROLOL RATIOPHARM EFG 5 MG 60 COMPRIMIDOS\tContado\tT1\t1\t0,00 €\t3,28 €\t0,33 €\t0,00 €\t0,33 €\t\t\t\t0,00 €\t0,00 €\t0,00 €\n",
      "(4)4-JUDIT\t888891\tOMEPRAZOL KERN PHARMA EFG 20 MG 28 CAPSULAS GAST\tContado\tT1\t1\t0,00 €\t2,42 €\t0,24 €\t0,00 €\t0,24 €\t\t\t\t0,00 €\t0,00 €\t0,00 €\n",
      "(4)4-JUDIT\t890533\tALOPURINOL NORMON EFG 300 MG 30 COMPRIMIDOS\tContado\tT1\t1\t0,00 €\t2,81 €\t0,28 €\t0,00 €\t0,28 €\t\t\t\t0,00 €\t0,00 €\t0,00 €\n",
      "(4)4-JUDIT\t317318\tDISCOS ALGODON DESMAQUILLAJE INTERAPOTHEK 80 DIS\tContado\t\t1\t0,00 €\t2,40 €\t2,40 €\t0,00 €\t2,40 €\t\t\t\t0,00 €\t0,00 €\t0,00 €\n",
      "01/07/2019\t10:49\t(20)2-ARACELI\t20926\t\tContado\t\t0\t0,00 €\t0,00 €\t8,95 €\t0,00 €\t8,95 €\tA155712/2019\t\t\t0,00 €\t8,95 €\t0,00 €\tTarjeta\n",
      "(20)2-ARACELI\t177849\tOPTREX CALMANTE OJOS\tContado\t\t1\t0,00 €\t8,95 €\t8,95 €\t0,00 €\t8,95 €\t\t\t\t0,00 €\t0,00 €\t0,00 €\n",
      "01/07/2019\t11:10\t(4)4-JUDIT\t\tContado\tContado\t\t0\t0,00 €\t0,00 €\t16,18 €\t0,00 €\t16,18 €\tA155713/2019\t\t\t0,00 €\t16,18 €\t0,00 €\tTarjeta\n",
      "(4)4-JUDIT\t687016\tDORMIDINA 25 MG 14 COMPRIMIDOS\tContado\t\t1\t0,00 €\t8,09 €\t8,09 €\t0,00 €\t8,09 €\t\t\t\t0,00 €\t0,00 €\t0,00 €\n",
      "(4)4-JUDIT\t687016\tDORMIDINA 25 MG 14 COMPRIMIDOS\tContado\t\t1\t0,00 €\t8,09 €\t8,09 €\t0,00 €\t8,09 €\t\t\t\t0,00 €\t0,00 €\t0,00 €\n"
     ]
    }
   ],
   "source": [
    "# Abro el fichero\n",
    "fichero = open(\"/Users/luissanchez/Downloads/ventaspruebacomatab.csv\" ,'r')\n",
    "for linea in fichero:\n",
    "    #print(linea)\n",
    "    values = linea.strip() #no me sirve porque ignora los vacíos.\n",
    "    print(values)\n",
    "    # Si el primer campo es un \n",
    "# Y no olvidar cerrarlo al final\n",
    "fichero.close()"
   ]
  },
  {
   "cell_type": "code",
   "execution_count": 17,
   "metadata": {},
   "outputs": [
    {
     "name": "stdout",
     "output_type": "stream",
     "text": [
      "--------------cerrando-- 01/07/2019\t11:10\t(4)4-JUDIT\t\tContado\tContado\t\t0\t0,00 €\t0,00 €\t16,18 €\t0,00 €\t16,18 €\tA155713/2019\t\t\t0,00 €\t16,18 €\t0,00 €\tTarjeta\n",
      "\n",
      "--------------cerrando-- 01/07/2019\t10:49\t(20)2-ARACELI\t20926\t\tContado\t\t0\t0,00 €\t0,00 €\t8,95 €\t0,00 €\t8,95 €\tA155712/2019\t\t\t0,00 €\t8,95 €\t0,00 €\tTarjeta\n",
      "\n",
      "--------------cerrando-- 01/07/2019\t10:48\t(4)4-JUDIT\t\tContado\tContado\t\t0\t0,00 €\t0,00 €\t3,47 €\t0,00 €\t3,47 €\tA155711/2019\t\t\t0,00 €\t3,47 €\t0,00 €\tEfectivo\n",
      "\n",
      "--------------cerrando-- 01/07/2019\t10:24\t(17)17-NOU\t\tContado\tContado\t\t0\t0,00 €\t0,00 €\t16,60 €\t0,00 €\t16,60 €\tA155706/2019\t\t\t0,00 €\t20,00 €\t3,40 €\tEfectivo\n",
      "\n",
      "--------------cerrando-- 01/07/2019\t10:07\t(20)2-ARACELI\t\tContado\tContado\t\t0\t0,00 €\t0,00 €\t16,55 €\t1,50 €\t15,05 €\tA155701/2019\t\t\t0,00 €\t15,05 €\t0,00 €\tTarjeta\n",
      "\n",
      "--------------cerrando-- 01/07/2019\t9:44\t(20)2-ARACELI\t\tContado\tContado\t\t0\t0,00 €\t0,00 €\t0,66 €\t0,00 €\t0,66 €\tA155696/2019\t\t\t0,00 €\t0,66 €\t0,00 €\tEfectivo\n",
      "\n",
      "--------------cerrando-- 01/07/2019\t9:44\t(3)3-GLORIA\t\tContado\tContado\t\t0\t0,00 €\t0,00 €\t3,12 €\t0,00 €\t3,12 €\tA155695/2019\t\t\t0,00 €\t10,00 €\t6,88 €\tEfectivo\n",
      "\n",
      "--------------cerrando-- 01/07/2019\t9:31\t(17)17-NOU\t\tContado\tContado\t\t0\t0,00 €\t0,00 €\t11,02 €\t0,00 €\t11,02 €\tA155694/2019\t\t\t0,00 €\t11,02 €\t0,00 €\tEfectivo\n",
      "\n",
      "--------------cerrando-- 01/07/2019\t9:25\t(20)2-ARACELI\t47114\t\tContado\t\t0\t0,00 €\t0,00 €\t9,71 €\t0,00 €\t9,71 €\tA155693/2019\t\t\t0,00 €\t50,00 €\t40,29 €\tEfectivo\n",
      "\n",
      "--------------cerrando-- 01/07/2019\t9:24\t(20)2-ARACELI\t\tContado\tContado\t\t0\t0,00 €\t0,00 €\t62,96 €\t0,00 €\t62,96 €\tA155692/2019\t\t\t0,00 €\t62,96 €\t0,00 €\tTarjeta\n",
      "\n",
      "--------------cerrando-- 01/07/2019\t9:06\t(20)2-ARACELI\t\tContado\tContado\t\t0\t0,00 €\t0,00 €\t9,71 €\t0,00 €\t9,71 €\tA155691/2019\t\t\t0,00 €\t10,00 €\t0,29 €\tEfectivo\n",
      "\n",
      "--------------cerrando-- 01/07/2019\t9:05\t(20)2-ARACELI\t\tContado\tContado\t\t0\t0,00 €\t0,00 €\t17,14 €\t0,00 €\t17,14 €\tA155690/2019\t\t\t0,00 €\t20,00 €\t2,86 €\tEfectivo\n",
      "\n",
      "--------------cerrando-- Fecha\tHora\tVendedor\tCódigo\tClienteDescripción\tTipo\tTA\tUni.\tP.Ant.\tP.V.P.\tImp. Bruto\tDto. \tImp. Neto\tNumero Doc.\tR.P.\tFact.\tA Cuenta\tEntrega\tDevoluc.\tTipo de Pago\n",
      "\n"
     ]
    }
   ],
   "source": [
    "\n",
    "# Abro el fichero\n",
    "fichero = open(\"/Users/luissanchez/Downloads/ventaspruebacomatab.csv\" ,'r')\n",
    "\n",
    "# de la docu oficial: https://docs.python.org/3/tutorial/inputoutput.html\n",
    "ficheroInverso = (fichero.readlines())[::-1]\n",
    "# print(ficheroInverso)\n",
    "\n",
    "# Ahora voy cargando líneas hasta que encuentre un resumen de venta.\n",
    "ventas = list()\n",
    "buffer = list()\n",
    "for linea in ficheroInverso:\n",
    "    # [linea.primerCaracter = '\\t' ] ifTrue: [buffer addFirst: linea] ifFalse: [buffer addFirst: linea]; ventas addLast: buffer . buffer = list()]\n",
    "    if linea[0] == '\\t':\n",
    "        \"es una línea de venta\"\n",
    "        buffer.append(linea)\n",
    "    else:\n",
    "        \"Es una línea de resumen de venta\"\n",
    "        buffer.append(linea) # añado la línea al acumulado.\n",
    "        print(\"--------------cerrando--\", linea)\n",
    "        ventas.append(buffer) # ya es una venta completa así que añado como una instancia más a la lista.\n",
    "        buffer = list() # para dejar vacío para la próxima venta.\n",
    "        \n",
    "\n",
    "# Y no olvidar cerrarlo al final\n",
    "fichero.close()\n",
    "\n",
    "        \n"
   ]
  },
  {
   "cell_type": "markdown",
   "metadata": {},
   "source": [
    "Esto ha sido una prueba que demuestra que voy por el buen camino. Ahora debo de continuar hacia la creación de la instancia **Venta**."
   ]
  },
  {
   "cell_type": "markdown",
   "metadata": {},
   "source": [
    "### Metiendo la clase *Venta*\n",
    "La idea es meter las líneas que corresponden dentro de una clase. Luego ya esta clase de apañará como es su obligación al delegar los trabajos."
   ]
  },
  {
   "cell_type": "code",
   "execution_count": 21,
   "metadata": {},
   "outputs": [
    {
     "name": "stdout",
     "output_type": "stream",
     "text": [
      "----------------cerrando 01/07/2019\t11:10\t(4)4-JUDIT\t\tContado\tContado\t\t0\t0,00 €\t0,00 €\t16,18 €\t0,00 €\t16,18 €\tA155713/2019\t\t\t0,00 €\t16,18 €\t0,00 €\tTarjeta\n",
      "\n",
      "----------------cerrando 01/07/2019\t10:49\t(20)2-ARACELI\t20926\t\tContado\t\t0\t0,00 €\t0,00 €\t8,95 €\t0,00 €\t8,95 €\tA155712/2019\t\t\t0,00 €\t8,95 €\t0,00 €\tTarjeta\n",
      "\n",
      "----------------cerrando 01/07/2019\t10:48\t(4)4-JUDIT\t\tContado\tContado\t\t0\t0,00 €\t0,00 €\t3,47 €\t0,00 €\t3,47 €\tA155711/2019\t\t\t0,00 €\t3,47 €\t0,00 €\tEfectivo\n",
      "\n",
      "----------------cerrando 01/07/2019\t10:24\t(17)17-NOU\t\tContado\tContado\t\t0\t0,00 €\t0,00 €\t16,60 €\t0,00 €\t16,60 €\tA155706/2019\t\t\t0,00 €\t20,00 €\t3,40 €\tEfectivo\n",
      "\n",
      "----------------cerrando 01/07/2019\t10:07\t(20)2-ARACELI\t\tContado\tContado\t\t0\t0,00 €\t0,00 €\t16,55 €\t1,50 €\t15,05 €\tA155701/2019\t\t\t0,00 €\t15,05 €\t0,00 €\tTarjeta\n",
      "\n",
      "----------------cerrando 01/07/2019\t9:44\t(20)2-ARACELI\t\tContado\tContado\t\t0\t0,00 €\t0,00 €\t0,66 €\t0,00 €\t0,66 €\tA155696/2019\t\t\t0,00 €\t0,66 €\t0,00 €\tEfectivo\n",
      "\n",
      "----------------cerrando 01/07/2019\t9:44\t(3)3-GLORIA\t\tContado\tContado\t\t0\t0,00 €\t0,00 €\t3,12 €\t0,00 €\t3,12 €\tA155695/2019\t\t\t0,00 €\t10,00 €\t6,88 €\tEfectivo\n",
      "\n",
      "----------------cerrando 01/07/2019\t9:31\t(17)17-NOU\t\tContado\tContado\t\t0\t0,00 €\t0,00 €\t11,02 €\t0,00 €\t11,02 €\tA155694/2019\t\t\t0,00 €\t11,02 €\t0,00 €\tEfectivo\n",
      "\n",
      "----------------cerrando 01/07/2019\t9:25\t(20)2-ARACELI\t47114\t\tContado\t\t0\t0,00 €\t0,00 €\t9,71 €\t0,00 €\t9,71 €\tA155693/2019\t\t\t0,00 €\t50,00 €\t40,29 €\tEfectivo\n",
      "\n",
      "----------------cerrando 01/07/2019\t9:24\t(20)2-ARACELI\t\tContado\tContado\t\t0\t0,00 €\t0,00 €\t62,96 €\t0,00 €\t62,96 €\tA155692/2019\t\t\t0,00 €\t62,96 €\t0,00 €\tTarjeta\n",
      "\n",
      "----------------cerrando 01/07/2019\t9:06\t(20)2-ARACELI\t\tContado\tContado\t\t0\t0,00 €\t0,00 €\t9,71 €\t0,00 €\t9,71 €\tA155691/2019\t\t\t0,00 €\t10,00 €\t0,29 €\tEfectivo\n",
      "\n",
      "----------------cerrando 01/07/2019\t9:05\t(20)2-ARACELI\t\tContado\tContado\t\t0\t0,00 €\t0,00 €\t17,14 €\t0,00 €\t17,14 €\tA155690/2019\t\t\t0,00 €\t20,00 €\t2,86 €\tEfectivo\n",
      "\n",
      "----------------cerrando Fecha\tHora\tVendedor\tCódigo\tClienteDescripción\tTipo\tTA\tUni.\tP.Ant.\tP.V.P.\tImp. Bruto\tDto. \tImp. Neto\tNumero Doc.\tR.P.\tFact.\tA Cuenta\tEntrega\tDevoluc.\tTipo de Pago\n",
      "\n",
      "13\n"
     ]
    }
   ],
   "source": [
    "\n",
    "class Venta():\n",
    "    \"\"\"Es la instancia que usaré para el Wrapper (¿?)\"\"\"\n",
    "    i = 1 # atribudo de instancia o de clase?\n",
    "    atributosGenerales = dict() # atribudo de instancia\n",
    "    lineas = list()\n",
    "    def asigno(self): # método de instancia\n",
    "        print(type(self.atributosGenerales))\n",
    "    def leeInfo(self, **keyvalue): # método de instancia\n",
    "        print(type(self.atributosGenerales))\n",
    "\n",
    "# Abro el fichero\n",
    "fichero = open(\"/Users/luissanchez/Downloads/ventaspruebacomatab.csv\" ,'r')\n",
    "\n",
    "# de la docu oficial: https://docs.python.org/3/tutorial/inputoutput.html\n",
    "ficheroInverso = (fichero.readlines())[::-1]\n",
    "# print(ficheroInverso)\n",
    "\n",
    "# Ahora voy cargando líneas hasta que encuentre un resumen de venta.\n",
    "ventas = list()\n",
    "buffer = list()\n",
    "for linea in ficheroInverso:\n",
    "    # [linea.primerCaracter = '\\t' ] ifTrue: [buffer addFirst: linea] ifFalse: [buffer addFirst: linea]; ventas addLast: buffer . buffer = list()]\n",
    "    buffer.append(linea)  # todas las líneas se acumulan como válidas\n",
    "    if linea[0] != '\\t':  # pero solo las que tienen el primer campo vacío cierran la venta.\n",
    "        print(\"----------------cerrando\", linea)\n",
    "        venta =  Venta().lineas = buffer # Entrego a una Venta la información acumulada en buffer.\n",
    "        ventas.append(venta) # añado la venta recien extraida.\n",
    "        buffer = list() # para dejar vacío para la próxima venta.\n",
    "\n",
    "# Y no olvidar cerrarlo al final\n",
    "fichero.close()\n",
    "\n",
    "print(len(ventas))\n",
    "\n",
    "        \n"
   ]
  },
  {
   "cell_type": "markdown",
   "metadata": {},
   "source": [
    "### Haciendo *Venta* responsable de su creación\n",
    "En esta vez voy a simplificar el código para que en futuras celdas el trabajo quede ya hecho. Primero transformo la lecetura del fichero en una función que ejecutaré repetidamente. Lo que quedará distinto será la programación de la clase."
   ]
  },
  {
   "cell_type": "code",
   "execution_count": 11,
   "metadata": {},
   "outputs": [
    {
     "name": "stdout",
     "output_type": "stream",
     "text": [
      "----------------cerrando 01/07/2019\t11:10\t(4)4-JUDIT\t\tContado\tContado\t\t0\t0,00 €\t0,00 €\t16,18 €\t0,00 €\t16,18 €\tA155713/2019\t\t\t0,00 €\t16,18 €\t0,00 €\tTarjeta\n",
      "\n"
     ]
    },
    {
     "ename": "TypeError",
     "evalue": "__init__() missing 1 required positional argument: 'lineasBrutas'",
     "output_type": "error",
     "traceback": [
      "\u001b[0;31m---------------------------------------------------------------------------\u001b[0m",
      "\u001b[0;31mTypeError\u001b[0m                                 Traceback (most recent call last)",
      "\u001b[0;32m<ipython-input-11-81320ad42a7b>\u001b[0m in \u001b[0;36m<module>\u001b[0;34m\u001b[0m\n\u001b[1;32m     22\u001b[0m     \u001b[0;31m# Y no olvidar cerrarlo al final\u001b[0m\u001b[0;34m\u001b[0m\u001b[0;34m\u001b[0m\u001b[0;34m\u001b[0m\u001b[0m\n\u001b[1;32m     23\u001b[0m     \u001b[0mfichero\u001b[0m\u001b[0;34m.\u001b[0m\u001b[0mclose\u001b[0m\u001b[0;34m(\u001b[0m\u001b[0;34m)\u001b[0m\u001b[0;34m\u001b[0m\u001b[0;34m\u001b[0m\u001b[0m\n\u001b[0;32m---> 24\u001b[0;31m \u001b[0mleoFichero\u001b[0m\u001b[0;34m(\u001b[0m\u001b[0;34m)\u001b[0m\u001b[0;34m\u001b[0m\u001b[0;34m\u001b[0m\u001b[0m\n\u001b[0m",
      "\u001b[0;32m<ipython-input-11-81320ad42a7b>\u001b[0m in \u001b[0;36mleoFichero\u001b[0;34m()\u001b[0m\n\u001b[1;32m     16\u001b[0m             \u001b[0mprint\u001b[0m\u001b[0;34m(\u001b[0m\u001b[0;34m\"----------------cerrando\"\u001b[0m\u001b[0;34m,\u001b[0m \u001b[0mlinea\u001b[0m\u001b[0;34m)\u001b[0m\u001b[0;34m\u001b[0m\u001b[0;34m\u001b[0m\u001b[0m\n\u001b[1;32m     17\u001b[0m             \u001b[0;31m#venta =  Venta().lineasBrutas = buffer # Entrego a una Venta la información acumulada en buffer.\u001b[0m\u001b[0;34m\u001b[0m\u001b[0;34m\u001b[0m\u001b[0;34m\u001b[0m\u001b[0m\n\u001b[0;32m---> 18\u001b[0;31m             \u001b[0mventa\u001b[0m \u001b[0;34m=\u001b[0m \u001b[0mVenta\u001b[0m\u001b[0;34m(\u001b[0m\u001b[0;34m)\u001b[0m\u001b[0;34m.\u001b[0m\u001b[0masignarBrutas\u001b[0m\u001b[0;34m(\u001b[0m\u001b[0mbuffer\u001b[0m\u001b[0;34m)\u001b[0m\u001b[0;34m\u001b[0m\u001b[0;34m\u001b[0m\u001b[0m\n\u001b[0m\u001b[1;32m     19\u001b[0m             \u001b[0mventas\u001b[0m\u001b[0;34m.\u001b[0m\u001b[0mappend\u001b[0m\u001b[0;34m(\u001b[0m\u001b[0mventa\u001b[0m\u001b[0;34m)\u001b[0m \u001b[0;31m# añado la venta recien extraida.\u001b[0m\u001b[0;34m\u001b[0m\u001b[0;34m\u001b[0m\u001b[0m\n\u001b[1;32m     20\u001b[0m             \u001b[0mbuffer\u001b[0m \u001b[0;34m=\u001b[0m \u001b[0mlist\u001b[0m\u001b[0;34m(\u001b[0m\u001b[0;34m)\u001b[0m \u001b[0;31m# para dejar vacío para la próxima venta.\u001b[0m\u001b[0;34m\u001b[0m\u001b[0;34m\u001b[0m\u001b[0m\n",
      "\u001b[0;31mTypeError\u001b[0m: __init__() missing 1 required positional argument: 'lineasBrutas'"
     ]
    }
   ],
   "source": [
    "def leoFichero():\n",
    "    # Abro el fichero\n",
    "    fichero = open(\"/Users/luissanchez/Downloads/ventaspruebacomatab.csv\" ,'r')\n",
    "\n",
    "    # de la docu oficial: https://docs.python.org/3/tutorial/inputoutput.html\n",
    "    ficheroInverso = (fichero.readlines())[::-1]\n",
    "    # print(ficheroInverso)\n",
    "\n",
    "    # Ahora voy cargando líneas hasta que encuentre un resumen de venta.\n",
    "    ventas = list()\n",
    "    buffer = list()\n",
    "    for linea in ficheroInverso:\n",
    "        # [linea.primerCaracter = '\\t' ] ifTrue: [buffer addFirst: linea] ifFalse: [buffer addFirst: linea]; ventas addLast: buffer . buffer = list()]\n",
    "        buffer.append(linea)  # todas las líneas se acumulan como válidas\n",
    "        if linea[0] != '\\t':  # pero solo las que tienen el primer campo vacío cierran la venta.\n",
    "            print(\"----------------cerrando\", linea)\n",
    "            #venta =  Venta().lineasBrutas = buffer # Entrego a una Venta la información acumulada en buffer.\n",
    "            venta = Venta().asignarBrutas(buffer)\n",
    "            ventas.append(venta) # añado la venta recien extraida.\n",
    "            buffer = list() # para dejar vacío para la próxima venta.\n",
    "\n",
    "    # Y no olvidar cerrarlo al final\n",
    "    fichero.close()\n",
    "leoFichero()"
   ]
  },
  {
   "cell_type": "code",
   "execution_count": 2,
   "metadata": {},
   "outputs": [
    {
     "name": "stdout",
     "output_type": "stream",
     "text": [
      "----------------cerrando 01/07/2019\t11:10\t(4)4-JUDIT\t\tContado\tContado\t\t0\t0,00 €\t0,00 €\t16,18 €\t0,00 €\t16,18 €\tA155713/2019\t\t\t0,00 €\t16,18 €\t0,00 €\tTarjeta\n",
      "\n",
      "<class 'dict'>\n",
      "**********************type(self.atributosGenerales\n",
      "----------------cerrando 01/07/2019\t10:49\t(20)2-ARACELI\t20926\t\tContado\t\t0\t0,00 €\t0,00 €\t8,95 €\t0,00 €\t8,95 €\tA155712/2019\t\t\t0,00 €\t8,95 €\t0,00 €\tTarjeta\n",
      "\n",
      "<class 'dict'>\n",
      "**********************type(self.atributosGenerales\n",
      "----------------cerrando 01/07/2019\t10:48\t(4)4-JUDIT\t\tContado\tContado\t\t0\t0,00 €\t0,00 €\t3,47 €\t0,00 €\t3,47 €\tA155711/2019\t\t\t0,00 €\t3,47 €\t0,00 €\tEfectivo\n",
      "\n",
      "<class 'dict'>\n",
      "**********************type(self.atributosGenerales\n",
      "----------------cerrando 01/07/2019\t10:24\t(17)17-NOU\t\tContado\tContado\t\t0\t0,00 €\t0,00 €\t16,60 €\t0,00 €\t16,60 €\tA155706/2019\t\t\t0,00 €\t20,00 €\t3,40 €\tEfectivo\n",
      "\n",
      "<class 'dict'>\n",
      "**********************type(self.atributosGenerales\n",
      "----------------cerrando 01/07/2019\t10:07\t(20)2-ARACELI\t\tContado\tContado\t\t0\t0,00 €\t0,00 €\t16,55 €\t1,50 €\t15,05 €\tA155701/2019\t\t\t0,00 €\t15,05 €\t0,00 €\tTarjeta\n",
      "\n",
      "<class 'dict'>\n",
      "**********************type(self.atributosGenerales\n",
      "----------------cerrando 01/07/2019\t9:44\t(20)2-ARACELI\t\tContado\tContado\t\t0\t0,00 €\t0,00 €\t0,66 €\t0,00 €\t0,66 €\tA155696/2019\t\t\t0,00 €\t0,66 €\t0,00 €\tEfectivo\n",
      "\n",
      "<class 'dict'>\n",
      "**********************type(self.atributosGenerales\n",
      "----------------cerrando 01/07/2019\t9:44\t(3)3-GLORIA\t\tContado\tContado\t\t0\t0,00 €\t0,00 €\t3,12 €\t0,00 €\t3,12 €\tA155695/2019\t\t\t0,00 €\t10,00 €\t6,88 €\tEfectivo\n",
      "\n",
      "<class 'dict'>\n",
      "**********************type(self.atributosGenerales\n",
      "----------------cerrando 01/07/2019\t9:31\t(17)17-NOU\t\tContado\tContado\t\t0\t0,00 €\t0,00 €\t11,02 €\t0,00 €\t11,02 €\tA155694/2019\t\t\t0,00 €\t11,02 €\t0,00 €\tEfectivo\n",
      "\n",
      "<class 'dict'>\n",
      "**********************type(self.atributosGenerales\n",
      "----------------cerrando 01/07/2019\t9:25\t(20)2-ARACELI\t47114\t\tContado\t\t0\t0,00 €\t0,00 €\t9,71 €\t0,00 €\t9,71 €\tA155693/2019\t\t\t0,00 €\t50,00 €\t40,29 €\tEfectivo\n",
      "\n",
      "<class 'dict'>\n",
      "**********************type(self.atributosGenerales\n",
      "----------------cerrando 01/07/2019\t9:24\t(20)2-ARACELI\t\tContado\tContado\t\t0\t0,00 €\t0,00 €\t62,96 €\t0,00 €\t62,96 €\tA155692/2019\t\t\t0,00 €\t62,96 €\t0,00 €\tTarjeta\n",
      "\n",
      "<class 'dict'>\n",
      "**********************type(self.atributosGenerales\n",
      "----------------cerrando 01/07/2019\t9:06\t(20)2-ARACELI\t\tContado\tContado\t\t0\t0,00 €\t0,00 €\t9,71 €\t0,00 €\t9,71 €\tA155691/2019\t\t\t0,00 €\t10,00 €\t0,29 €\tEfectivo\n",
      "\n",
      "<class 'dict'>\n",
      "**********************type(self.atributosGenerales\n",
      "----------------cerrando 01/07/2019\t9:05\t(20)2-ARACELI\t\tContado\tContado\t\t0\t0,00 €\t0,00 €\t17,14 €\t0,00 €\t17,14 €\tA155690/2019\t\t\t0,00 €\t20,00 €\t2,86 €\tEfectivo\n",
      "\n",
      "<class 'dict'>\n",
      "**********************type(self.atributosGenerales\n",
      "----------------cerrando Fecha\tHora\tVendedor\tCódigo\tClienteDescripción\tTipo\tTA\tUni.\tP.Ant.\tP.V.P.\tImp. Bruto\tDto. \tImp. Neto\tNumero Doc.\tR.P.\tFact.\tA Cuenta\tEntrega\tDevoluc.\tTipo de Pago\n",
      "\n",
      "<class 'dict'>\n",
      "**********************type(self.atributosGenerales\n",
      "----->-->-->--> Es como un diccionario\n",
      " x[\"i\"] -> 1\n",
      " x.keys() -> <class 'dict_keys'>\n"
     ]
    }
   ],
   "source": [
    "class Venta():\n",
    "    \"\"\"Es la instancia que usaré para el Wrapper (¿?)\"\"\"\n",
    "    i = 1 # atribudo de instancia o de clase?\n",
    "    atributosGenerales = dict() # atribudo de instancia\n",
    "    lineasBrutas = list()\n",
    "    lineasVenta = list()\n",
    "    \n",
    "    def __init__(self):\n",
    "        self.asigno()\n",
    "        \n",
    "    def asigno(self): # método de instancia\n",
    "        print(type(self.atributosGenerales))\n",
    "        print(\"**********************type(self.atributosGenerales\")\n",
    "        \n",
    "    def leeInfo(self, **keyvalue): # método de instancia\n",
    "        print(type(self.atributosGenerales))\n",
    "        \n",
    "leoFichero()\n",
    "\n",
    "x =  vars( Venta )\n",
    "\n",
    "\n",
    "print( '----->-->-->--> Es como un diccionario' )\n",
    "print(' x[\"i\"] ->' , x['i'])\n",
    " \n",
    "\n",
    "print(' x.keys() ->' , type( x.keys() ))\n"
   ]
  },
  {
   "cell_type": "markdown",
   "metadata": {},
   "source": [
    "Esto es lo que he aprendido:\n",
    "\n",
    "Buscaba un listado de los atributos y los métodos de una clase.\n",
    "He encontrado dos funciones que te la entregan. Lo leí en la [documentación oficial](https://docs.python.org/3/library/functions.html)  o de la [v3.3](https://docs.python.org/3.3/library/functions.html)\n",
    "\n",
    "Tengo que investigar el [enlace](https://docs.python.org/3/c-api/object.html) sobre el código de *hasattr()*\n",
    "La cuestión es: ¿Qué código tiene y usa para saber si tiene un atributo y su valor?\n",
    "\n",
    "vars( obj )  y  locals()   \n",
    "\n",
    "(probé también pero no funcionó:\n",
    "```\n",
    "print( '----->' , ( Venta().__dict__ ))\n",
    "print( '----->' , ( Venta.__bases__ ))\n",
    ")  \n",
    "```  \n",
    "la diferencia está en que locals se refiere al \"objeto\" que es la clase donde se llama. *vars()* recibe un objeto.\n",
    "\n",
    "Lo que obtengo es una instancia de la clase <class 'mappingproxy'> a efectos prácticos actua como un diccionario.\n",
    "Ejemplo:  \n",
    "x['i'])  \n",
    "\n",
    "v = 'i'  \n",
    "print(' v = \"i\" x[v] -> ' , x[v] )  \n",
    "\n",
    "\n",
    "\"\n",
    "hasattr(a, 'property'):  \n",
    "if hasattr(a, 'property'):  \n",
    "    a.property  \n",
    "getattr(a, 'property', 'default value')  \n",
    "\n",
    "try:  \n",
    "    getattr(someObject, 'someProperty')      \n",
    "except AttributeError:  \n",
    "    print \"Doesn't exist\"  \n",
    "else  \n",
    "    print \"Exists\"  \n",
    " \n",
    "\n",
    "\"\n",
    "\n",
    "#### Lambda, map, reduce y filter\n",
    "Me cuesta programar sin closures. Busco siempre la manera de hacerlo en python.\n",
    "Enlaces: \n",
    "* [](https://www.geeksforgeeks.org/python-lambda-anonymous-functions-filter-map-reduce/)\n",
    "* [enla](https://docs.python.org/3/library/functions.html#map)\n",
    "* [](https://docs.python.org/3/library/functions.html)\n",
    "\n",
    "##### filter (como el select: de ST)\n",
    "Coje una lista y una función y selecciona aquellos que tengan True al final de la función.\n",
    "``` \n",
    "li = [5, 7, 22, 97, 54, 62, 77, 23, 73, 61] \n",
    "final_list = list(filter(lambda x: (x%2 != 0) , li)) \n",
    "print(final_list) # [5, 7, 97, 77, 23, 73, 61]\n",
    "``` \n",
    "\n",
    "##### map (como el collect: de ST)\n",
    "Coje una lista y una función aplica la función a cada elemento devolviendo una lista nueva.\n",
    "``` \n",
    "li = [5, 7, 22, 97, 54, 62, 77, 23, 73, 61] \n",
    "final_list = list(map(lambda x: x*2 , li)) \n",
    "print(final_list) #  [10, 14, 44, 194, 108, 124, 154, 46, 146, 122]\n",
    "``` \n",
    "\n",
    "##### Reduce\n",
    "Coje una lista y una función de dos parámetros y asigna cada valor al resultado de la anterior. No tengo claro si X o y es el valor de la operación anterior.\n",
    "``` \n",
    "from functools import reduce\n",
    "li = [5, 8, 10, 20, 50, 100] \n",
    "sum = reduce((lambda x, y: x + y), li) \n",
    "print (sum) # 193 := (((((5+8)+10)+20)+50)+100)  \n",
    "````"
   ]
  },
  {
   "cell_type": "code",
   "execution_count": 4,
   "metadata": {},
   "outputs": [
    {
     "ename": "SyntaxError",
     "evalue": "invalid syntax (<ipython-input-4-ac5a645904fb>, line 14)",
     "output_type": "error",
     "traceback": [
      "\u001b[0;36m  File \u001b[0;32m\"<ipython-input-4-ac5a645904fb>\"\u001b[0;36m, line \u001b[0;32m14\u001b[0m\n\u001b[0;31m    cabecera = filter( x => alinea[0] != '\\t' , self.lineasBrutas )\u001b[0m\n\u001b[0m                          ^\u001b[0m\n\u001b[0;31mSyntaxError\u001b[0m\u001b[0;31m:\u001b[0m invalid syntax\n"
     ]
    }
   ],
   "source": [
    "class VentaResumen(Venta):\n",
    "    \"\"\"Es la instancia que usaré para el Wrapper (evoltorio)\"\"\"\n",
    "    i = 1 # atribudo de instancia o de clase?\n",
    "    atributosGenerales = dict() # atribudo de instancia\n",
    "    lineas = list()\n",
    "        \n",
    "    def asigno(self): # método de instancia\n",
    "        # Busco entre las líneasBrutas la que corresponde al resumen \n",
    "        # Extraigo de ella la información y se la doy a self asignando las variables.\n",
    "        pass\n",
    "        \n",
    "        \n",
    "    def leeInfo(self, **keyvalue): # método de instancia\n",
    "        print(type(self.atributosGenerales))\n",
    "        \n",
    "leoFichero()"
   ]
  },
  {
   "cell_type": "code",
   "execution_count": 12,
   "metadata": {},
   "outputs": [
    {
     "name": "stdout",
     "output_type": "stream",
     "text": [
      "----------------cerrando 01/07/2019\t11:10\t(4)4-JUDIT\t\tContado\tContado\t\t0\t0,00 €\t0,00 €\t16,18 €\t0,00 €\t16,18 €\tA155713/2019\t\t\t0,00 €\t16,18 €\t0,00 €\tTarjeta\n",
      "\n"
     ]
    },
    {
     "ename": "TypeError",
     "evalue": "__init__() missing 1 required positional argument: 'lineasBrutas'",
     "output_type": "error",
     "traceback": [
      "\u001b[0;31m---------------------------------------------------------------------------\u001b[0m",
      "\u001b[0;31mTypeError\u001b[0m                                 Traceback (most recent call last)",
      "\u001b[0;32m<ipython-input-12-6f99943db4e8>\u001b[0m in \u001b[0;36m<module>\u001b[0;34m\u001b[0m\n\u001b[1;32m     24\u001b[0m     \u001b[0;32mdef\u001b[0m \u001b[0mleeInfo\u001b[0m\u001b[0;34m(\u001b[0m\u001b[0mself\u001b[0m\u001b[0;34m,\u001b[0m \u001b[0;34m**\u001b[0m\u001b[0mkeyvalue\u001b[0m\u001b[0;34m)\u001b[0m\u001b[0;34m:\u001b[0m \u001b[0;31m# método de instancia\u001b[0m\u001b[0;34m\u001b[0m\u001b[0;34m\u001b[0m\u001b[0m\n\u001b[1;32m     25\u001b[0m         \u001b[0mprint\u001b[0m\u001b[0;34m(\u001b[0m\u001b[0mtype\u001b[0m\u001b[0;34m(\u001b[0m\u001b[0mself\u001b[0m\u001b[0;34m.\u001b[0m\u001b[0matributosGenerales\u001b[0m\u001b[0;34m)\u001b[0m\u001b[0;34m)\u001b[0m\u001b[0;34m\u001b[0m\u001b[0;34m\u001b[0m\u001b[0m\n\u001b[0;32m---> 26\u001b[0;31m \u001b[0mleoFichero\u001b[0m\u001b[0;34m(\u001b[0m\u001b[0;34m)\u001b[0m\u001b[0;34m\u001b[0m\u001b[0;34m\u001b[0m\u001b[0m\n\u001b[0m",
      "\u001b[0;32m<ipython-input-11-81320ad42a7b>\u001b[0m in \u001b[0;36mleoFichero\u001b[0;34m()\u001b[0m\n\u001b[1;32m     16\u001b[0m             \u001b[0mprint\u001b[0m\u001b[0;34m(\u001b[0m\u001b[0;34m\"----------------cerrando\"\u001b[0m\u001b[0;34m,\u001b[0m \u001b[0mlinea\u001b[0m\u001b[0;34m)\u001b[0m\u001b[0;34m\u001b[0m\u001b[0;34m\u001b[0m\u001b[0m\n\u001b[1;32m     17\u001b[0m             \u001b[0;31m#venta =  Venta().lineasBrutas = buffer # Entrego a una Venta la información acumulada en buffer.\u001b[0m\u001b[0;34m\u001b[0m\u001b[0;34m\u001b[0m\u001b[0;34m\u001b[0m\u001b[0m\n\u001b[0;32m---> 18\u001b[0;31m             \u001b[0mventa\u001b[0m \u001b[0;34m=\u001b[0m \u001b[0mVenta\u001b[0m\u001b[0;34m(\u001b[0m\u001b[0;34m)\u001b[0m\u001b[0;34m.\u001b[0m\u001b[0masignarBrutas\u001b[0m\u001b[0;34m(\u001b[0m\u001b[0mbuffer\u001b[0m\u001b[0;34m)\u001b[0m\u001b[0;34m\u001b[0m\u001b[0;34m\u001b[0m\u001b[0m\n\u001b[0m\u001b[1;32m     19\u001b[0m             \u001b[0mventas\u001b[0m\u001b[0;34m.\u001b[0m\u001b[0mappend\u001b[0m\u001b[0;34m(\u001b[0m\u001b[0mventa\u001b[0m\u001b[0;34m)\u001b[0m \u001b[0;31m# añado la venta recien extraida.\u001b[0m\u001b[0;34m\u001b[0m\u001b[0;34m\u001b[0m\u001b[0m\n\u001b[1;32m     20\u001b[0m             \u001b[0mbuffer\u001b[0m \u001b[0;34m=\u001b[0m \u001b[0mlist\u001b[0m\u001b[0;34m(\u001b[0m\u001b[0;34m)\u001b[0m \u001b[0;31m# para dejar vacío para la próxima venta.\u001b[0m\u001b[0;34m\u001b[0m\u001b[0;34m\u001b[0m\u001b[0m\n",
      "\u001b[0;31mTypeError\u001b[0m: __init__() missing 1 required positional argument: 'lineasBrutas'"
     ]
    }
   ],
   "source": [
    "class Venta():\n",
    "    \"\"\"Es la instancia que usaré para el Wrapper (¿?)\"\"\"\n",
    "    i = 1 # atribudo de instancia o de clase?\n",
    "    atributosGenerales = dict() # atribudo de instancia\n",
    "    lineasBrutas = list()\n",
    "    lineasDeVenta = list()\n",
    "    \n",
    "    def __init__(self, lineasBrutas):\n",
    "        self.asigno()\n",
    "    def asignarBrutas(self, buffer):\n",
    "        self.lineasBrutas = buffer\n",
    "        self.asignarCabecera()\n",
    "        return self\n",
    "    def asignoCabecera(self): # método de instancia\n",
    "        # selecciono la línea de cabecera\n",
    "        # extraigo de cada separación de tabulador la información necesaria.\n",
    "        print(self.lineaBrutaSelecciona() )\n",
    "    \n",
    "    def lineaBrutaSelecciona(self):\n",
    "        #self.lineasBrutas select: [:alinea | alinea[0] != '\\t']\n",
    "        seleccionar = lambda aLineaTxt : aLineaTxt[0] != '\\t'\n",
    "        cabecera = filter( seleccionar , self.lineasBrutas ) \n",
    "        \n",
    "    def leeInfo(self, **keyvalue): # método de instancia\n",
    "        print(type(self.atributosGenerales))\n",
    "leoFichero()"
   ]
  },
  {
   "cell_type": "code",
   "execution_count": null,
   "metadata": {},
   "outputs": [],
   "source": []
  }
 ],
 "metadata": {
  "kernelspec": {
   "display_name": "Python 3",
   "language": "python",
   "name": "python3"
  },
  "language_info": {
   "codemirror_mode": {
    "name": "ipython",
    "version": 3
   },
   "file_extension": ".py",
   "mimetype": "text/x-python",
   "name": "python",
   "nbconvert_exporter": "python",
   "pygments_lexer": "ipython3",
   "version": "3.6.8"
  }
 },
 "nbformat": 4,
 "nbformat_minor": 2
}
