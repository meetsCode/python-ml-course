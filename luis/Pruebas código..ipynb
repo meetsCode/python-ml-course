{
 "cells": [
  {
   "cell_type": "code",
   "execution_count": 1,
   "metadata": {},
   "outputs": [],
   "source": [
    "import numpy as np\n",
    "import matplotlib as plt\n",
    "%matplotlib inline"
   ]
  },
  {
   "cell_type": "code",
   "execution_count": 2,
   "metadata": {},
   "outputs": [],
   "source": [
    "data = np.random.randn(15)"
   ]
  },
  {
   "cell_type": "code",
   "execution_count": 3,
   "metadata": {},
   "outputs": [
    {
     "data": {
      "text/plain": [
       "array([ 0.68804942,  1.07850689,  0.92493189,  0.44606896, -0.19642723,\n",
       "       -0.17322761, -0.4791523 ,  0.89886131, -2.80059333,  0.63512028,\n",
       "       -0.62545386, -0.36174864, -0.03797217,  2.84859991, -0.76217253])"
      ]
     },
     "execution_count": 3,
     "metadata": {},
     "output_type": "execute_result"
    }
   ],
   "source": [
    "data"
   ]
  },
  {
   "cell_type": "code",
   "execution_count": 4,
   "metadata": {},
   "outputs": [
    {
     "ename": "AttributeError",
     "evalue": "module 'matplotlib' has no attribute 'plot'",
     "output_type": "error",
     "traceback": [
      "\u001b[0;31m---------------------------------------------------------------------------\u001b[0m",
      "\u001b[0;31mAttributeError\u001b[0m                            Traceback (most recent call last)",
      "\u001b[0;32m<ipython-input-4-932aef70c5ef>\u001b[0m in \u001b[0;36m<module>\u001b[0;34m\u001b[0m\n\u001b[1;32m      1\u001b[0m \u001b[0mx\u001b[0m \u001b[0;34m=\u001b[0m \u001b[0mrange\u001b[0m\u001b[0;34m(\u001b[0m\u001b[0;36m1\u001b[0m\u001b[0;34m,\u001b[0m\u001b[0;36m16\u001b[0m\u001b[0;34m)\u001b[0m\u001b[0;34m\u001b[0m\u001b[0;34m\u001b[0m\u001b[0m\n\u001b[0;32m----> 2\u001b[0;31m \u001b[0mplt\u001b[0m\u001b[0;34m.\u001b[0m\u001b[0mplot\u001b[0m\u001b[0;34m(\u001b[0m\u001b[0mx\u001b[0m\u001b[0;34m,\u001b[0m\u001b[0mdata\u001b[0m\u001b[0;34m)\u001b[0m\u001b[0;34m\u001b[0m\u001b[0;34m\u001b[0m\u001b[0m\n\u001b[0m",
      "\u001b[0;31mAttributeError\u001b[0m: module 'matplotlib' has no attribute 'plot'"
     ]
    }
   ],
   "source": [
    "x = range(1,16)\n",
    "plt.plot(x,data)"
   ]
  },
  {
   "cell_type": "code",
   "execution_count": 11,
   "metadata": {},
   "outputs": [],
   "source": [
    "# Uso completo de argumentos con key **kwargs\n",
    "def dendro(*args,**kwargs): # recibimos unos argumentos como un diccionario: dendro( pin=1, pon='hola' )\n",
    "    print(muestro el diccionario : kwargs)\n",
    "    print(kwargs)\n",
    "    pin = kwargs.pop('pin',None) # si el key 'pin' existe se asigna\n",
    "    pon = kwargs.pop('pon',None)\n",
    "    print(pin)\n",
    "    print(kwargs)\n"
   ]
  },
  {
   "cell_type": "code",
   "execution_count": 12,
   "metadata": {},
   "outputs": [
    {
     "name": "stdout",
     "output_type": "stream",
     "text": [
      "1\n",
      "{}\n",
      "None\n",
      "{}\n"
     ]
    }
   ],
   "source": [
    "dendro(pin=1)\n",
    "dendro(pon=2)"
   ]
  },
  {
   "cell_type": "code",
   "execution_count": 9,
   "metadata": {},
   "outputs": [
    {
     "name": "stdout",
     "output_type": "stream",
     "text": [
      "{'aList01': [1, 2], 'aList02': [3, 4], 'aList03': [5, 6], 'borrable': 7, 'persiste': 8}\n",
      "\n",
      "Comenzamos con los IF y sus usos.\n",
      "No existe ya borrable.\n",
      "ahora nop se crea, se añade como argumento y vale:  creado dentro\n",
      "\n",
      "------------------------------------------\n",
      "Estoy dentrod de receptor. Que redibe los siguientes argumentos: \n",
      "*args: ()\n",
      "**kwargs:  {'aList01': [1, 2], 'aList02': [3, 4], 'aList03': [5, 6], 'persiste': 8, 'nop': 'nop'}\n",
      "------------------------------------------\n",
      "\n",
      "Iteración:  1\n",
      "uno 1\n",
      "dos 3\n",
      "tres 5\n",
      "Iteración:  2\n",
      "uno 2\n",
      "dos 4\n",
      "tres 6\n",
      "{'aList01': [1, 2], 'aList02': [3, 4], 'aList03': [5, 6], 'persiste': 8, 'nop': 'nop'}\n"
     ]
    }
   ],
   "source": [
    "def receptor(*args, **kwargs):\n",
    "    print()\n",
    "    print('------------------------------------------')\n",
    "    print('Estoy dentrod de receptor. Que redibe los siguientes argumentos: ' )\n",
    "    print('*args:', args)\n",
    "    print('**kwargs: ', kwargs)\n",
    "    print('------------------------------------------')\n",
    "    print()\n",
    "    return\n",
    "    \n",
    "def dendro(*args, **kwargs):\n",
    "    print(kwargs)\n",
    "    \n",
    "    # Si existe en los argumentos la key pin se entrega su valor. None si no. ¡Borra la Key!\n",
    "    borrable = kwargs.pop('borrable',None)\n",
    "    \n",
    "    # Si existe asigna el valor del argumento si no existe entrega 0. ¡No borra la key!\n",
    "    persiste = kwargs.get('persiste' , 0) \n",
    "    \n",
    "    # Que borre o no la key es importante porque luego serán las keys que queden usadas como parámetros \n",
    "    \n",
    "    # Comenzamos con los IF y sus usos. Localización de las keys y su uso según estén o no y sus valores.\n",
    "    print()\n",
    "    print('Comenzamos con los IF y sus usos.')\n",
    "    if not 'borrable' in kwargs: # si el key borrable NO está se hace algo.\n",
    "        print('No existe ya borrable.') # Eso muestra que se tienen en cuenta las key y no las values.\n",
    "    if borrable and 'nop' not in kwargs: # pin debe existir y ser != de None para comprobar 'pon'\n",
    "        kwargs['nop'] = 'creado dentro' # Si el valor nop existe se cambia y si no existe se crea. \n",
    "        print('ahora nop se crea, se añade como argumento y vale: ', kwargs['nop'])\n",
    "    if not kwargs.get('no_key', False): # Se usa el valor de 'no-key' y si no existe se devuelve False. \n",
    "        kwargs['nop'] = 'nop' # Si el valor nop existe se cambia y si no existe se crea.\n",
    "    \n",
    "        \n",
    "    hecho = receptor(*args, **kwargs) # Puedo pasar a lo bestia los valores cambiados como parámetros a otra función. \n",
    "    \n",
    "    # Uso imaginativo de for.\n",
    "    # supongamos que me entregan tres listas aList01, aList02 y aList03 de tamaño igual\n",
    "    # y quiero coger la n-esima de la primera, de la segunda y de la tercera para hacer una tupla.\n",
    "    for uno, dos, tres in zip (kwargs['aList01'], kwargs['aList02'], kwargs['aList03']):\n",
    "        print('Iteración: ', uno)\n",
    "        print('uno' , uno)\n",
    "        print('dos' , dos)\n",
    "        print('tres' , tres)\n",
    "        \n",
    "    print(kwargs)\n",
    "\n",
    "dendro(aList01=[1, 2], aList02=[3, 4], aList03=[5, 6], borrable=7 , persiste=8 )\n",
    "    "
   ]
  },
  {
   "cell_type": "code",
   "execution_count": null,
   "metadata": {},
   "outputs": [],
   "source": []
  }
 ],
 "metadata": {
  "kernelspec": {
   "display_name": "Python 3",
   "language": "python",
   "name": "python3"
  },
  "language_info": {
   "codemirror_mode": {
    "name": "ipython",
    "version": 3
   },
   "file_extension": ".py",
   "mimetype": "text/x-python",
   "name": "python",
   "nbconvert_exporter": "python",
   "pygments_lexer": "ipython3",
   "version": "3.6.8"
  }
 },
 "nbformat": 4,
 "nbformat_minor": 2
}
